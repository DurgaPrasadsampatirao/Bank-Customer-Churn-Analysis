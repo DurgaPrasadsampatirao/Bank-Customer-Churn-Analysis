{
 "cells": [
  {
   "cell_type": "markdown",
   "id": "1b9a466b",
   "metadata": {},
   "source": [
    "# Bank customer churn analysis"
   ]
  },
  {
   "cell_type": "markdown",
   "id": "e03b1785",
   "metadata": {},
   "source": [
    "### About Bank Churn"
   ]
  },
  {
   "cell_type": "markdown",
   "id": "ebeeafda",
   "metadata": {},
   "source": [
    "**<span style=\"background-color: yellow\">Bank churn</span>** refers to the phenomenon where customers **<span style=\"background-color: yellow\">stop using the services</span>** of a bank. It is a critical issue as it affects the bank’s **<span style=\"background-color: yellow\">revenue and growth</span>**. \n",
    "\n",
    "**<span style=\"background-color: yellow\">Common reasons</span>** for churn include **<span style=\"background-color: yellow\">poor customer service</span>**, **<span style=\"background-color: yellow\">high fees</span>**, and **<span style=\"background-color: yellow\">better offers</span>** from competitors. Banks use **<span style=\"background-color: yellow\">churn analysis</span>** to identify at-risk customers and implement **<span style=\"background-color: yellow\">retention strategies</span>**. Reducing churn is essential for maintaining a stable **<span style=\"background-color: yellow\">customer base</span>**.\n",
    "\n",
    "\n",
    "In this analysis, we will explore various factors influencing **<span style=\"background-color: yellow\">bank churn</span>**. This includes examining customer demographics, **<span style=\"background-color: yellow\">account activities</span>**, and **<span style=\"background-color: yellow\">service usage patterns</span>**. By understanding these factors, we aim to identify key drivers of churn and develop effective **<span style=\"background-color: yellow\">retention strategies</span>**."
   ]
  },
  {
   "cell_type": "code",
   "execution_count": 1,
   "id": "3674af43",
   "metadata": {},
   "outputs": [],
   "source": [
    "# Importing libraries\n",
    "\n",
    "import pandas as pd\n",
    "import numpy as np\n",
    "import seaborn as sns\n",
    "import matplotlib.pyplot as plt\n",
    "import warnings\n",
    "warnings.filterwarnings('ignore')"
   ]
  },
  {
   "cell_type": "code",
   "execution_count": 2,
   "id": "79f73c45",
   "metadata": {},
   "outputs": [
    {
     "data": {
      "text/html": [
       "<div>\n",
       "<style scoped>\n",
       "    .dataframe tbody tr th:only-of-type {\n",
       "        vertical-align: middle;\n",
       "    }\n",
       "\n",
       "    .dataframe tbody tr th {\n",
       "        vertical-align: top;\n",
       "    }\n",
       "\n",
       "    .dataframe thead th {\n",
       "        text-align: right;\n",
       "    }\n",
       "</style>\n",
       "<table border=\"1\" class=\"dataframe\">\n",
       "  <thead>\n",
       "    <tr style=\"text-align: right;\">\n",
       "      <th></th>\n",
       "      <th>RowNumber</th>\n",
       "      <th>CustomerId</th>\n",
       "      <th>Surname</th>\n",
       "      <th>CreditScore</th>\n",
       "      <th>Geography</th>\n",
       "      <th>Gender</th>\n",
       "      <th>Age</th>\n",
       "      <th>Tenure</th>\n",
       "      <th>Balance</th>\n",
       "      <th>NumOfProducts</th>\n",
       "      <th>HasCrCard</th>\n",
       "      <th>IsActiveMember</th>\n",
       "      <th>EstimatedSalary</th>\n",
       "      <th>Exited</th>\n",
       "      <th>Complain</th>\n",
       "      <th>Satisfaction Score</th>\n",
       "      <th>Card Type</th>\n",
       "      <th>Point Earned</th>\n",
       "    </tr>\n",
       "  </thead>\n",
       "  <tbody>\n",
       "    <tr>\n",
       "      <th>0</th>\n",
       "      <td>1</td>\n",
       "      <td>15634602</td>\n",
       "      <td>Hargrave</td>\n",
       "      <td>619</td>\n",
       "      <td>France</td>\n",
       "      <td>Female</td>\n",
       "      <td>42</td>\n",
       "      <td>2</td>\n",
       "      <td>0.00</td>\n",
       "      <td>1</td>\n",
       "      <td>1</td>\n",
       "      <td>1</td>\n",
       "      <td>101348.88</td>\n",
       "      <td>1</td>\n",
       "      <td>1</td>\n",
       "      <td>2</td>\n",
       "      <td>DIAMOND</td>\n",
       "      <td>464</td>\n",
       "    </tr>\n",
       "    <tr>\n",
       "      <th>1</th>\n",
       "      <td>2</td>\n",
       "      <td>15647311</td>\n",
       "      <td>Hill</td>\n",
       "      <td>608</td>\n",
       "      <td>Spain</td>\n",
       "      <td>Female</td>\n",
       "      <td>41</td>\n",
       "      <td>1</td>\n",
       "      <td>83807.86</td>\n",
       "      <td>1</td>\n",
       "      <td>0</td>\n",
       "      <td>1</td>\n",
       "      <td>112542.58</td>\n",
       "      <td>0</td>\n",
       "      <td>1</td>\n",
       "      <td>3</td>\n",
       "      <td>DIAMOND</td>\n",
       "      <td>456</td>\n",
       "    </tr>\n",
       "    <tr>\n",
       "      <th>2</th>\n",
       "      <td>3</td>\n",
       "      <td>15619304</td>\n",
       "      <td>Onio</td>\n",
       "      <td>502</td>\n",
       "      <td>France</td>\n",
       "      <td>Female</td>\n",
       "      <td>42</td>\n",
       "      <td>8</td>\n",
       "      <td>159660.80</td>\n",
       "      <td>3</td>\n",
       "      <td>1</td>\n",
       "      <td>0</td>\n",
       "      <td>113931.57</td>\n",
       "      <td>1</td>\n",
       "      <td>1</td>\n",
       "      <td>3</td>\n",
       "      <td>DIAMOND</td>\n",
       "      <td>377</td>\n",
       "    </tr>\n",
       "    <tr>\n",
       "      <th>3</th>\n",
       "      <td>4</td>\n",
       "      <td>15701354</td>\n",
       "      <td>Boni</td>\n",
       "      <td>699</td>\n",
       "      <td>France</td>\n",
       "      <td>Female</td>\n",
       "      <td>39</td>\n",
       "      <td>1</td>\n",
       "      <td>0.00</td>\n",
       "      <td>2</td>\n",
       "      <td>0</td>\n",
       "      <td>0</td>\n",
       "      <td>93826.63</td>\n",
       "      <td>0</td>\n",
       "      <td>0</td>\n",
       "      <td>5</td>\n",
       "      <td>GOLD</td>\n",
       "      <td>350</td>\n",
       "    </tr>\n",
       "    <tr>\n",
       "      <th>4</th>\n",
       "      <td>5</td>\n",
       "      <td>15737888</td>\n",
       "      <td>Mitchell</td>\n",
       "      <td>850</td>\n",
       "      <td>Spain</td>\n",
       "      <td>Female</td>\n",
       "      <td>43</td>\n",
       "      <td>2</td>\n",
       "      <td>125510.82</td>\n",
       "      <td>1</td>\n",
       "      <td>1</td>\n",
       "      <td>1</td>\n",
       "      <td>79084.10</td>\n",
       "      <td>0</td>\n",
       "      <td>0</td>\n",
       "      <td>5</td>\n",
       "      <td>GOLD</td>\n",
       "      <td>425</td>\n",
       "    </tr>\n",
       "  </tbody>\n",
       "</table>\n",
       "</div>"
      ],
      "text/plain": [
       "   RowNumber  CustomerId   Surname  CreditScore Geography  Gender  Age  \\\n",
       "0          1    15634602  Hargrave          619    France  Female   42   \n",
       "1          2    15647311      Hill          608     Spain  Female   41   \n",
       "2          3    15619304      Onio          502    France  Female   42   \n",
       "3          4    15701354      Boni          699    France  Female   39   \n",
       "4          5    15737888  Mitchell          850     Spain  Female   43   \n",
       "\n",
       "   Tenure    Balance  NumOfProducts  HasCrCard  IsActiveMember  \\\n",
       "0       2       0.00              1          1               1   \n",
       "1       1   83807.86              1          0               1   \n",
       "2       8  159660.80              3          1               0   \n",
       "3       1       0.00              2          0               0   \n",
       "4       2  125510.82              1          1               1   \n",
       "\n",
       "   EstimatedSalary  Exited  Complain  Satisfaction Score Card Type  \\\n",
       "0        101348.88       1         1                   2   DIAMOND   \n",
       "1        112542.58       0         1                   3   DIAMOND   \n",
       "2        113931.57       1         1                   3   DIAMOND   \n",
       "3         93826.63       0         0                   5      GOLD   \n",
       "4         79084.10       0         0                   5      GOLD   \n",
       "\n",
       "   Point Earned  \n",
       "0           464  \n",
       "1           456  \n",
       "2           377  \n",
       "3           350  \n",
       "4           425  "
      ]
     },
     "execution_count": 2,
     "metadata": {},
     "output_type": "execute_result"
    }
   ],
   "source": [
    "# Reading the data frame\n",
    "df=pd.read_csv(\"Bank-Records.csv\")\n",
    "df.head()"
   ]
  },
  {
   "cell_type": "code",
   "execution_count": 3,
   "id": "0fd98bb6",
   "metadata": {},
   "outputs": [
    {
     "data": {
      "text/plain": [
       "(10000, 18)"
      ]
     },
     "execution_count": 3,
     "metadata": {},
     "output_type": "execute_result"
    }
   ],
   "source": [
    "df.shape    #Finding the shape of the data frame"
   ]
  },
  {
   "cell_type": "code",
   "execution_count": 4,
   "id": "95ce44ff",
   "metadata": {},
   "outputs": [
    {
     "data": {
      "text/plain": [
       "Index(['RowNumber', 'CustomerId', 'Surname', 'CreditScore', 'Geography',\n",
       "       'Gender', 'Age', 'Tenure', 'Balance', 'NumOfProducts', 'HasCrCard',\n",
       "       'IsActiveMember', 'EstimatedSalary', 'Exited', 'Complain',\n",
       "       'Satisfaction Score', 'Card Type', 'Point Earned'],\n",
       "      dtype='object')"
      ]
     },
     "execution_count": 4,
     "metadata": {},
     "output_type": "execute_result"
    }
   ],
   "source": [
    "df.columns"
   ]
  },
  {
   "cell_type": "code",
   "execution_count": 5,
   "id": "afb5621a",
   "metadata": {},
   "outputs": [
    {
     "name": "stdout",
     "output_type": "stream",
     "text": [
      "<class 'pandas.core.frame.DataFrame'>\n",
      "RangeIndex: 10000 entries, 0 to 9999\n",
      "Data columns (total 18 columns):\n",
      " #   Column              Non-Null Count  Dtype  \n",
      "---  ------              --------------  -----  \n",
      " 0   RowNumber           10000 non-null  int64  \n",
      " 1   CustomerId          10000 non-null  int64  \n",
      " 2   Surname             10000 non-null  object \n",
      " 3   CreditScore         10000 non-null  int64  \n",
      " 4   Geography           10000 non-null  object \n",
      " 5   Gender              10000 non-null  object \n",
      " 6   Age                 10000 non-null  int64  \n",
      " 7   Tenure              10000 non-null  int64  \n",
      " 8   Balance             10000 non-null  float64\n",
      " 9   NumOfProducts       10000 non-null  int64  \n",
      " 10  HasCrCard           10000 non-null  int64  \n",
      " 11  IsActiveMember      10000 non-null  int64  \n",
      " 12  EstimatedSalary     10000 non-null  float64\n",
      " 13  Exited              10000 non-null  int64  \n",
      " 14  Complain            10000 non-null  int64  \n",
      " 15  Satisfaction Score  10000 non-null  int64  \n",
      " 16  Card Type           10000 non-null  object \n",
      " 17  Point Earned        10000 non-null  int64  \n",
      "dtypes: float64(2), int64(12), object(4)\n",
      "memory usage: 1.4+ MB\n"
     ]
    }
   ],
   "source": [
    "# Getting the info of the data\n",
    "df.info()"
   ]
  },
  {
   "cell_type": "code",
   "execution_count": 6,
   "id": "6c877918",
   "metadata": {},
   "outputs": [
    {
     "data": {
      "text/html": [
       "<div>\n",
       "<style scoped>\n",
       "    .dataframe tbody tr th:only-of-type {\n",
       "        vertical-align: middle;\n",
       "    }\n",
       "\n",
       "    .dataframe tbody tr th {\n",
       "        vertical-align: top;\n",
       "    }\n",
       "\n",
       "    .dataframe thead th {\n",
       "        text-align: right;\n",
       "    }\n",
       "</style>\n",
       "<table border=\"1\" class=\"dataframe\">\n",
       "  <thead>\n",
       "    <tr style=\"text-align: right;\">\n",
       "      <th></th>\n",
       "      <th>RowNumber</th>\n",
       "      <th>CustomerId</th>\n",
       "      <th>CreditScore</th>\n",
       "      <th>Age</th>\n",
       "      <th>Tenure</th>\n",
       "      <th>Balance</th>\n",
       "      <th>NumOfProducts</th>\n",
       "      <th>HasCrCard</th>\n",
       "      <th>IsActiveMember</th>\n",
       "      <th>EstimatedSalary</th>\n",
       "      <th>Exited</th>\n",
       "      <th>Complain</th>\n",
       "      <th>Satisfaction Score</th>\n",
       "      <th>Point Earned</th>\n",
       "    </tr>\n",
       "  </thead>\n",
       "  <tbody>\n",
       "    <tr>\n",
       "      <th>count</th>\n",
       "      <td>10000.00000</td>\n",
       "      <td>1.000000e+04</td>\n",
       "      <td>10000.000000</td>\n",
       "      <td>10000.000000</td>\n",
       "      <td>10000.000000</td>\n",
       "      <td>10000.000000</td>\n",
       "      <td>10000.000000</td>\n",
       "      <td>10000.00000</td>\n",
       "      <td>10000.000000</td>\n",
       "      <td>10000.000000</td>\n",
       "      <td>10000.000000</td>\n",
       "      <td>10000.000000</td>\n",
       "      <td>10000.000000</td>\n",
       "      <td>10000.000000</td>\n",
       "    </tr>\n",
       "    <tr>\n",
       "      <th>mean</th>\n",
       "      <td>5000.50000</td>\n",
       "      <td>1.569094e+07</td>\n",
       "      <td>650.528800</td>\n",
       "      <td>38.921800</td>\n",
       "      <td>5.012800</td>\n",
       "      <td>76485.889288</td>\n",
       "      <td>1.530200</td>\n",
       "      <td>0.70550</td>\n",
       "      <td>0.515100</td>\n",
       "      <td>100090.239881</td>\n",
       "      <td>0.203800</td>\n",
       "      <td>0.204400</td>\n",
       "      <td>3.013800</td>\n",
       "      <td>606.515100</td>\n",
       "    </tr>\n",
       "    <tr>\n",
       "      <th>std</th>\n",
       "      <td>2886.89568</td>\n",
       "      <td>7.193619e+04</td>\n",
       "      <td>96.653299</td>\n",
       "      <td>10.487806</td>\n",
       "      <td>2.892174</td>\n",
       "      <td>62397.405202</td>\n",
       "      <td>0.581654</td>\n",
       "      <td>0.45584</td>\n",
       "      <td>0.499797</td>\n",
       "      <td>57510.492818</td>\n",
       "      <td>0.402842</td>\n",
       "      <td>0.403283</td>\n",
       "      <td>1.405919</td>\n",
       "      <td>225.924839</td>\n",
       "    </tr>\n",
       "    <tr>\n",
       "      <th>min</th>\n",
       "      <td>1.00000</td>\n",
       "      <td>1.556570e+07</td>\n",
       "      <td>350.000000</td>\n",
       "      <td>18.000000</td>\n",
       "      <td>0.000000</td>\n",
       "      <td>0.000000</td>\n",
       "      <td>1.000000</td>\n",
       "      <td>0.00000</td>\n",
       "      <td>0.000000</td>\n",
       "      <td>11.580000</td>\n",
       "      <td>0.000000</td>\n",
       "      <td>0.000000</td>\n",
       "      <td>1.000000</td>\n",
       "      <td>119.000000</td>\n",
       "    </tr>\n",
       "    <tr>\n",
       "      <th>25%</th>\n",
       "      <td>2500.75000</td>\n",
       "      <td>1.562853e+07</td>\n",
       "      <td>584.000000</td>\n",
       "      <td>32.000000</td>\n",
       "      <td>3.000000</td>\n",
       "      <td>0.000000</td>\n",
       "      <td>1.000000</td>\n",
       "      <td>0.00000</td>\n",
       "      <td>0.000000</td>\n",
       "      <td>51002.110000</td>\n",
       "      <td>0.000000</td>\n",
       "      <td>0.000000</td>\n",
       "      <td>2.000000</td>\n",
       "      <td>410.000000</td>\n",
       "    </tr>\n",
       "    <tr>\n",
       "      <th>50%</th>\n",
       "      <td>5000.50000</td>\n",
       "      <td>1.569074e+07</td>\n",
       "      <td>652.000000</td>\n",
       "      <td>37.000000</td>\n",
       "      <td>5.000000</td>\n",
       "      <td>97198.540000</td>\n",
       "      <td>1.000000</td>\n",
       "      <td>1.00000</td>\n",
       "      <td>1.000000</td>\n",
       "      <td>100193.915000</td>\n",
       "      <td>0.000000</td>\n",
       "      <td>0.000000</td>\n",
       "      <td>3.000000</td>\n",
       "      <td>605.000000</td>\n",
       "    </tr>\n",
       "    <tr>\n",
       "      <th>75%</th>\n",
       "      <td>7500.25000</td>\n",
       "      <td>1.575323e+07</td>\n",
       "      <td>718.000000</td>\n",
       "      <td>44.000000</td>\n",
       "      <td>7.000000</td>\n",
       "      <td>127644.240000</td>\n",
       "      <td>2.000000</td>\n",
       "      <td>1.00000</td>\n",
       "      <td>1.000000</td>\n",
       "      <td>149388.247500</td>\n",
       "      <td>0.000000</td>\n",
       "      <td>0.000000</td>\n",
       "      <td>4.000000</td>\n",
       "      <td>801.000000</td>\n",
       "    </tr>\n",
       "    <tr>\n",
       "      <th>max</th>\n",
       "      <td>10000.00000</td>\n",
       "      <td>1.581569e+07</td>\n",
       "      <td>850.000000</td>\n",
       "      <td>92.000000</td>\n",
       "      <td>10.000000</td>\n",
       "      <td>250898.090000</td>\n",
       "      <td>4.000000</td>\n",
       "      <td>1.00000</td>\n",
       "      <td>1.000000</td>\n",
       "      <td>199992.480000</td>\n",
       "      <td>1.000000</td>\n",
       "      <td>1.000000</td>\n",
       "      <td>5.000000</td>\n",
       "      <td>1000.000000</td>\n",
       "    </tr>\n",
       "  </tbody>\n",
       "</table>\n",
       "</div>"
      ],
      "text/plain": [
       "         RowNumber    CustomerId   CreditScore           Age        Tenure  \\\n",
       "count  10000.00000  1.000000e+04  10000.000000  10000.000000  10000.000000   \n",
       "mean    5000.50000  1.569094e+07    650.528800     38.921800      5.012800   \n",
       "std     2886.89568  7.193619e+04     96.653299     10.487806      2.892174   \n",
       "min        1.00000  1.556570e+07    350.000000     18.000000      0.000000   \n",
       "25%     2500.75000  1.562853e+07    584.000000     32.000000      3.000000   \n",
       "50%     5000.50000  1.569074e+07    652.000000     37.000000      5.000000   \n",
       "75%     7500.25000  1.575323e+07    718.000000     44.000000      7.000000   \n",
       "max    10000.00000  1.581569e+07    850.000000     92.000000     10.000000   \n",
       "\n",
       "             Balance  NumOfProducts    HasCrCard  IsActiveMember  \\\n",
       "count   10000.000000   10000.000000  10000.00000    10000.000000   \n",
       "mean    76485.889288       1.530200      0.70550        0.515100   \n",
       "std     62397.405202       0.581654      0.45584        0.499797   \n",
       "min         0.000000       1.000000      0.00000        0.000000   \n",
       "25%         0.000000       1.000000      0.00000        0.000000   \n",
       "50%     97198.540000       1.000000      1.00000        1.000000   \n",
       "75%    127644.240000       2.000000      1.00000        1.000000   \n",
       "max    250898.090000       4.000000      1.00000        1.000000   \n",
       "\n",
       "       EstimatedSalary        Exited      Complain  Satisfaction Score  \\\n",
       "count     10000.000000  10000.000000  10000.000000        10000.000000   \n",
       "mean     100090.239881      0.203800      0.204400            3.013800   \n",
       "std       57510.492818      0.402842      0.403283            1.405919   \n",
       "min          11.580000      0.000000      0.000000            1.000000   \n",
       "25%       51002.110000      0.000000      0.000000            2.000000   \n",
       "50%      100193.915000      0.000000      0.000000            3.000000   \n",
       "75%      149388.247500      0.000000      0.000000            4.000000   \n",
       "max      199992.480000      1.000000      1.000000            5.000000   \n",
       "\n",
       "       Point Earned  \n",
       "count  10000.000000  \n",
       "mean     606.515100  \n",
       "std      225.924839  \n",
       "min      119.000000  \n",
       "25%      410.000000  \n",
       "50%      605.000000  \n",
       "75%      801.000000  \n",
       "max     1000.000000  "
      ]
     },
     "execution_count": 6,
     "metadata": {},
     "output_type": "execute_result"
    }
   ],
   "source": [
    "df.describe(include=np.number)"
   ]
  },
  {
   "cell_type": "code",
   "execution_count": 7,
   "id": "da3704fc",
   "metadata": {},
   "outputs": [],
   "source": [
    "# Create a mask for surnames with counts greater than 20\n",
    "surname_counts = df['Surname'].value_counts()\n",
    "mask = df['Surname'].isin(surname_counts[surname_counts > 20].index)\n",
    "\n",
    "# Apply the mask to filter the DataFrame\n",
    "filtered_df = df[mask]"
   ]
  },
  {
   "cell_type": "code",
   "execution_count": 8,
   "id": "dc849915",
   "metadata": {},
   "outputs": [
    {
     "data": {
      "text/html": [
       "<div>\n",
       "<style scoped>\n",
       "    .dataframe tbody tr th:only-of-type {\n",
       "        vertical-align: middle;\n",
       "    }\n",
       "\n",
       "    .dataframe tbody tr th {\n",
       "        vertical-align: top;\n",
       "    }\n",
       "\n",
       "    .dataframe thead th {\n",
       "        text-align: right;\n",
       "    }\n",
       "</style>\n",
       "<table border=\"1\" class=\"dataframe\">\n",
       "  <thead>\n",
       "    <tr style=\"text-align: right;\">\n",
       "      <th></th>\n",
       "      <th>RowNumber</th>\n",
       "      <th>CustomerId</th>\n",
       "      <th>Surname</th>\n",
       "      <th>CreditScore</th>\n",
       "      <th>Geography</th>\n",
       "      <th>Gender</th>\n",
       "      <th>Age</th>\n",
       "      <th>Tenure</th>\n",
       "      <th>Balance</th>\n",
       "      <th>NumOfProducts</th>\n",
       "      <th>HasCrCard</th>\n",
       "      <th>IsActiveMember</th>\n",
       "      <th>EstimatedSalary</th>\n",
       "      <th>Exited</th>\n",
       "      <th>Complain</th>\n",
       "      <th>Satisfaction Score</th>\n",
       "      <th>Card Type</th>\n",
       "      <th>Point Earned</th>\n",
       "    </tr>\n",
       "  </thead>\n",
       "  <tbody>\n",
       "    <tr>\n",
       "      <th>5</th>\n",
       "      <td>6</td>\n",
       "      <td>15574012</td>\n",
       "      <td>Chu</td>\n",
       "      <td>645</td>\n",
       "      <td>Spain</td>\n",
       "      <td>Male</td>\n",
       "      <td>44</td>\n",
       "      <td>8</td>\n",
       "      <td>113755.78</td>\n",
       "      <td>2</td>\n",
       "      <td>1</td>\n",
       "      <td>0</td>\n",
       "      <td>149756.71</td>\n",
       "      <td>1</td>\n",
       "      <td>1</td>\n",
       "      <td>5</td>\n",
       "      <td>DIAMOND</td>\n",
       "      <td>484</td>\n",
       "    </tr>\n",
       "    <tr>\n",
       "      <th>14</th>\n",
       "      <td>15</td>\n",
       "      <td>15600882</td>\n",
       "      <td>Scott</td>\n",
       "      <td>635</td>\n",
       "      <td>Spain</td>\n",
       "      <td>Female</td>\n",
       "      <td>35</td>\n",
       "      <td>7</td>\n",
       "      <td>0.00</td>\n",
       "      <td>2</td>\n",
       "      <td>1</td>\n",
       "      <td>1</td>\n",
       "      <td>65951.65</td>\n",
       "      <td>0</td>\n",
       "      <td>0</td>\n",
       "      <td>2</td>\n",
       "      <td>GOLD</td>\n",
       "      <td>318</td>\n",
       "    </tr>\n",
       "    <tr>\n",
       "      <th>25</th>\n",
       "      <td>26</td>\n",
       "      <td>15738191</td>\n",
       "      <td>Maclean</td>\n",
       "      <td>577</td>\n",
       "      <td>France</td>\n",
       "      <td>Male</td>\n",
       "      <td>25</td>\n",
       "      <td>3</td>\n",
       "      <td>0.00</td>\n",
       "      <td>2</td>\n",
       "      <td>0</td>\n",
       "      <td>1</td>\n",
       "      <td>124508.29</td>\n",
       "      <td>0</td>\n",
       "      <td>0</td>\n",
       "      <td>3</td>\n",
       "      <td>PLATINUM</td>\n",
       "      <td>659</td>\n",
       "    </tr>\n",
       "    <tr>\n",
       "      <th>46</th>\n",
       "      <td>47</td>\n",
       "      <td>15602280</td>\n",
       "      <td>Martin</td>\n",
       "      <td>829</td>\n",
       "      <td>Germany</td>\n",
       "      <td>Female</td>\n",
       "      <td>27</td>\n",
       "      <td>9</td>\n",
       "      <td>112045.67</td>\n",
       "      <td>1</td>\n",
       "      <td>1</td>\n",
       "      <td>1</td>\n",
       "      <td>119708.21</td>\n",
       "      <td>1</td>\n",
       "      <td>1</td>\n",
       "      <td>3</td>\n",
       "      <td>DIAMOND</td>\n",
       "      <td>779</td>\n",
       "    </tr>\n",
       "    <tr>\n",
       "      <th>99</th>\n",
       "      <td>100</td>\n",
       "      <td>15633059</td>\n",
       "      <td>Fanucci</td>\n",
       "      <td>413</td>\n",
       "      <td>France</td>\n",
       "      <td>Male</td>\n",
       "      <td>34</td>\n",
       "      <td>9</td>\n",
       "      <td>0.00</td>\n",
       "      <td>2</td>\n",
       "      <td>0</td>\n",
       "      <td>0</td>\n",
       "      <td>6534.18</td>\n",
       "      <td>0</td>\n",
       "      <td>0</td>\n",
       "      <td>1</td>\n",
       "      <td>PLATINUM</td>\n",
       "      <td>449</td>\n",
       "    </tr>\n",
       "  </tbody>\n",
       "</table>\n",
       "</div>"
      ],
      "text/plain": [
       "    RowNumber  CustomerId  Surname  CreditScore Geography  Gender  Age  \\\n",
       "5           6    15574012      Chu          645     Spain    Male   44   \n",
       "14         15    15600882    Scott          635     Spain  Female   35   \n",
       "25         26    15738191  Maclean          577    France    Male   25   \n",
       "46         47    15602280   Martin          829   Germany  Female   27   \n",
       "99        100    15633059  Fanucci          413    France    Male   34   \n",
       "\n",
       "    Tenure    Balance  NumOfProducts  HasCrCard  IsActiveMember  \\\n",
       "5        8  113755.78              2          1               0   \n",
       "14       7       0.00              2          1               1   \n",
       "25       3       0.00              2          0               1   \n",
       "46       9  112045.67              1          1               1   \n",
       "99       9       0.00              2          0               0   \n",
       "\n",
       "    EstimatedSalary  Exited  Complain  Satisfaction Score Card Type  \\\n",
       "5         149756.71       1         1                   5   DIAMOND   \n",
       "14         65951.65       0         0                   2      GOLD   \n",
       "25        124508.29       0         0                   3  PLATINUM   \n",
       "46        119708.21       1         1                   3   DIAMOND   \n",
       "99          6534.18       0         0                   1  PLATINUM   \n",
       "\n",
       "    Point Earned  \n",
       "5            484  \n",
       "14           318  \n",
       "25           659  \n",
       "46           779  \n",
       "99           449  "
      ]
     },
     "execution_count": 8,
     "metadata": {},
     "output_type": "execute_result"
    }
   ],
   "source": [
    "filtered_df.head()"
   ]
  },
  {
   "cell_type": "code",
   "execution_count": 9,
   "id": "e7fd68ea",
   "metadata": {},
   "outputs": [
    {
     "data": {
      "text/plain": [
       "(553, 18)"
      ]
     },
     "execution_count": 9,
     "metadata": {},
     "output_type": "execute_result"
    }
   ],
   "source": [
    "filtered_df.shape"
   ]
  },
  {
   "cell_type": "code",
   "execution_count": 10,
   "id": "75f92ae2",
   "metadata": {},
   "outputs": [
    {
     "data": {
      "text/plain": [
       "23"
      ]
     },
     "execution_count": 10,
     "metadata": {},
     "output_type": "execute_result"
    }
   ],
   "source": [
    "filtered_df['Surname'].nunique()"
   ]
  },
  {
   "cell_type": "markdown",
   "id": "0cd9aa5d",
   "metadata": {},
   "source": [
    "And the overall length of the data is 10,000, with respective to that the filtered_df has length 553. So, `with respective to 10k the filtered length is neglected`."
   ]
  },
  {
   "cell_type": "code",
   "execution_count": 11,
   "id": "718912ac",
   "metadata": {},
   "outputs": [
    {
     "data": {
      "text/plain": [
       "10000"
      ]
     },
     "execution_count": 11,
     "metadata": {},
     "output_type": "execute_result"
    }
   ],
   "source": [
    "len(df)"
   ]
  },
  {
   "cell_type": "markdown",
   "id": "4df3116c",
   "metadata": {},
   "source": [
    "There is `no impact of Surname, RowNumber on the overall data`. Therefore we are removing the `columns Surname, RowNumber.`"
   ]
  },
  {
   "cell_type": "code",
   "execution_count": 12,
   "id": "bcf8cfa9",
   "metadata": {},
   "outputs": [
    {
     "data": {
      "text/plain": [
       "15634602    1\n",
       "15667932    1\n",
       "15766185    1\n",
       "15667632    1\n",
       "15599024    1\n",
       "           ..\n",
       "15599078    1\n",
       "15702300    1\n",
       "15660735    1\n",
       "15671390    1\n",
       "15628319    1\n",
       "Name: CustomerId, Length: 10000, dtype: int64"
      ]
     },
     "execution_count": 12,
     "metadata": {},
     "output_type": "execute_result"
    }
   ],
   "source": [
    "df['CustomerId'].value_counts()"
   ]
  },
  {
   "cell_type": "markdown",
   "id": "4e35bd1f",
   "metadata": {},
   "source": [
    "There are all **unique no. of CustomerId** in the data. There we are dropping it to reduce the complexcity."
   ]
  },
  {
   "cell_type": "code",
   "execution_count": 13,
   "id": "858f3329",
   "metadata": {},
   "outputs": [],
   "source": [
    "# Dropping the columns 'RowNumber','Surname', 'CustomerId' as there is no impact of the cols in the data.\n",
    "df.drop(columns=['RowNumber','Surname', 'CustomerId'], inplace = True)"
   ]
  },
  {
   "cell_type": "code",
   "execution_count": 14,
   "id": "ac01519f",
   "metadata": {},
   "outputs": [
    {
     "data": {
      "text/html": [
       "<div>\n",
       "<style scoped>\n",
       "    .dataframe tbody tr th:only-of-type {\n",
       "        vertical-align: middle;\n",
       "    }\n",
       "\n",
       "    .dataframe tbody tr th {\n",
       "        vertical-align: top;\n",
       "    }\n",
       "\n",
       "    .dataframe thead th {\n",
       "        text-align: right;\n",
       "    }\n",
       "</style>\n",
       "<table border=\"1\" class=\"dataframe\">\n",
       "  <thead>\n",
       "    <tr style=\"text-align: right;\">\n",
       "      <th></th>\n",
       "      <th>CreditScore</th>\n",
       "      <th>Geography</th>\n",
       "      <th>Gender</th>\n",
       "      <th>Age</th>\n",
       "      <th>Tenure</th>\n",
       "      <th>Balance</th>\n",
       "      <th>NumOfProducts</th>\n",
       "      <th>HasCrCard</th>\n",
       "      <th>IsActiveMember</th>\n",
       "      <th>EstimatedSalary</th>\n",
       "      <th>Exited</th>\n",
       "      <th>Complain</th>\n",
       "      <th>Satisfaction Score</th>\n",
       "      <th>Card Type</th>\n",
       "      <th>Point Earned</th>\n",
       "    </tr>\n",
       "  </thead>\n",
       "  <tbody>\n",
       "    <tr>\n",
       "      <th>0</th>\n",
       "      <td>619</td>\n",
       "      <td>France</td>\n",
       "      <td>Female</td>\n",
       "      <td>42</td>\n",
       "      <td>2</td>\n",
       "      <td>0.00</td>\n",
       "      <td>1</td>\n",
       "      <td>1</td>\n",
       "      <td>1</td>\n",
       "      <td>101348.88</td>\n",
       "      <td>1</td>\n",
       "      <td>1</td>\n",
       "      <td>2</td>\n",
       "      <td>DIAMOND</td>\n",
       "      <td>464</td>\n",
       "    </tr>\n",
       "    <tr>\n",
       "      <th>1</th>\n",
       "      <td>608</td>\n",
       "      <td>Spain</td>\n",
       "      <td>Female</td>\n",
       "      <td>41</td>\n",
       "      <td>1</td>\n",
       "      <td>83807.86</td>\n",
       "      <td>1</td>\n",
       "      <td>0</td>\n",
       "      <td>1</td>\n",
       "      <td>112542.58</td>\n",
       "      <td>0</td>\n",
       "      <td>1</td>\n",
       "      <td>3</td>\n",
       "      <td>DIAMOND</td>\n",
       "      <td>456</td>\n",
       "    </tr>\n",
       "    <tr>\n",
       "      <th>2</th>\n",
       "      <td>502</td>\n",
       "      <td>France</td>\n",
       "      <td>Female</td>\n",
       "      <td>42</td>\n",
       "      <td>8</td>\n",
       "      <td>159660.80</td>\n",
       "      <td>3</td>\n",
       "      <td>1</td>\n",
       "      <td>0</td>\n",
       "      <td>113931.57</td>\n",
       "      <td>1</td>\n",
       "      <td>1</td>\n",
       "      <td>3</td>\n",
       "      <td>DIAMOND</td>\n",
       "      <td>377</td>\n",
       "    </tr>\n",
       "    <tr>\n",
       "      <th>3</th>\n",
       "      <td>699</td>\n",
       "      <td>France</td>\n",
       "      <td>Female</td>\n",
       "      <td>39</td>\n",
       "      <td>1</td>\n",
       "      <td>0.00</td>\n",
       "      <td>2</td>\n",
       "      <td>0</td>\n",
       "      <td>0</td>\n",
       "      <td>93826.63</td>\n",
       "      <td>0</td>\n",
       "      <td>0</td>\n",
       "      <td>5</td>\n",
       "      <td>GOLD</td>\n",
       "      <td>350</td>\n",
       "    </tr>\n",
       "    <tr>\n",
       "      <th>4</th>\n",
       "      <td>850</td>\n",
       "      <td>Spain</td>\n",
       "      <td>Female</td>\n",
       "      <td>43</td>\n",
       "      <td>2</td>\n",
       "      <td>125510.82</td>\n",
       "      <td>1</td>\n",
       "      <td>1</td>\n",
       "      <td>1</td>\n",
       "      <td>79084.10</td>\n",
       "      <td>0</td>\n",
       "      <td>0</td>\n",
       "      <td>5</td>\n",
       "      <td>GOLD</td>\n",
       "      <td>425</td>\n",
       "    </tr>\n",
       "  </tbody>\n",
       "</table>\n",
       "</div>"
      ],
      "text/plain": [
       "   CreditScore Geography  Gender  Age  Tenure    Balance  NumOfProducts  \\\n",
       "0          619    France  Female   42       2       0.00              1   \n",
       "1          608     Spain  Female   41       1   83807.86              1   \n",
       "2          502    France  Female   42       8  159660.80              3   \n",
       "3          699    France  Female   39       1       0.00              2   \n",
       "4          850     Spain  Female   43       2  125510.82              1   \n",
       "\n",
       "   HasCrCard  IsActiveMember  EstimatedSalary  Exited  Complain  \\\n",
       "0          1               1        101348.88       1         1   \n",
       "1          0               1        112542.58       0         1   \n",
       "2          1               0        113931.57       1         1   \n",
       "3          0               0         93826.63       0         0   \n",
       "4          1               1         79084.10       0         0   \n",
       "\n",
       "   Satisfaction Score Card Type  Point Earned  \n",
       "0                   2   DIAMOND           464  \n",
       "1                   3   DIAMOND           456  \n",
       "2                   3   DIAMOND           377  \n",
       "3                   5      GOLD           350  \n",
       "4                   5      GOLD           425  "
      ]
     },
     "execution_count": 14,
     "metadata": {},
     "output_type": "execute_result"
    }
   ],
   "source": [
    "df.head()"
   ]
  },
  {
   "cell_type": "code",
   "execution_count": 15,
   "id": "7c687c4d",
   "metadata": {},
   "outputs": [
    {
     "data": {
      "text/plain": [
       "(10000, 15)"
      ]
     },
     "execution_count": 15,
     "metadata": {},
     "output_type": "execute_result"
    }
   ],
   "source": [
    "df.shape"
   ]
  },
  {
   "cell_type": "code",
   "execution_count": 16,
   "id": "272f68a5",
   "metadata": {},
   "outputs": [
    {
     "data": {
      "text/plain": [
       "CreditScore           0\n",
       "Geography             0\n",
       "Gender                0\n",
       "Age                   0\n",
       "Tenure                0\n",
       "Balance               0\n",
       "NumOfProducts         0\n",
       "HasCrCard             0\n",
       "IsActiveMember        0\n",
       "EstimatedSalary       0\n",
       "Exited                0\n",
       "Complain              0\n",
       "Satisfaction Score    0\n",
       "Card Type             0\n",
       "Point Earned          0\n",
       "dtype: int64"
      ]
     },
     "execution_count": 16,
     "metadata": {},
     "output_type": "execute_result"
    }
   ],
   "source": [
    "# Finding the null values\n",
    "\n",
    "df.isnull().sum()"
   ]
  },
  {
   "cell_type": "markdown",
   "id": "5528fde1",
   "metadata": {},
   "source": [
    "- So, there is **'no null values'** in the **Data.**"
   ]
  },
  {
   "cell_type": "markdown",
   "id": "6497bd85",
   "metadata": {},
   "source": [
    "#### Finding the null values in the scence of percentages."
   ]
  },
  {
   "cell_type": "code",
   "execution_count": 17,
   "id": "2e7ccb7d",
   "metadata": {},
   "outputs": [
    {
     "name": "stdout",
     "output_type": "stream",
     "text": [
      "\n",
      "Percentage of null values for all columns:\n",
      "CreditScore           0.0\n",
      "Geography             0.0\n",
      "Gender                0.0\n",
      "Age                   0.0\n",
      "Tenure                0.0\n",
      "Balance               0.0\n",
      "NumOfProducts         0.0\n",
      "HasCrCard             0.0\n",
      "IsActiveMember        0.0\n",
      "EstimatedSalary       0.0\n",
      "Exited                0.0\n",
      "Complain              0.0\n",
      "Satisfaction Score    0.0\n",
      "Card Type             0.0\n",
      "Point Earned          0.0\n",
      "dtype: float64\n"
     ]
    }
   ],
   "source": [
    "# Total number of rows\n",
    "total_rows = df.shape[0]\n",
    "\n",
    "# Calculate percentage of null values for each column\n",
    "null_percentages = df.isnull().sum() / total_rows * 100\n",
    "\n",
    "print(\"\\nPercentage of null values for all columns:\")\n",
    "print(null_percentages)"
   ]
  },
  {
   "cell_type": "code",
   "execution_count": 18,
   "id": "49b4e12d",
   "metadata": {},
   "outputs": [],
   "source": [
    "# Checking and Removing Duplicates\n",
    "\n",
    "duplicated = df[df.duplicated()]"
   ]
  },
  {
   "cell_type": "code",
   "execution_count": 19,
   "id": "f8eeac86",
   "metadata": {},
   "outputs": [
    {
     "data": {
      "text/html": [
       "<div>\n",
       "<style scoped>\n",
       "    .dataframe tbody tr th:only-of-type {\n",
       "        vertical-align: middle;\n",
       "    }\n",
       "\n",
       "    .dataframe tbody tr th {\n",
       "        vertical-align: top;\n",
       "    }\n",
       "\n",
       "    .dataframe thead th {\n",
       "        text-align: right;\n",
       "    }\n",
       "</style>\n",
       "<table border=\"1\" class=\"dataframe\">\n",
       "  <thead>\n",
       "    <tr style=\"text-align: right;\">\n",
       "      <th></th>\n",
       "      <th>CreditScore</th>\n",
       "      <th>Geography</th>\n",
       "      <th>Gender</th>\n",
       "      <th>Age</th>\n",
       "      <th>Tenure</th>\n",
       "      <th>Balance</th>\n",
       "      <th>NumOfProducts</th>\n",
       "      <th>HasCrCard</th>\n",
       "      <th>IsActiveMember</th>\n",
       "      <th>EstimatedSalary</th>\n",
       "      <th>Exited</th>\n",
       "      <th>Complain</th>\n",
       "      <th>Satisfaction Score</th>\n",
       "      <th>Card Type</th>\n",
       "      <th>Point Earned</th>\n",
       "    </tr>\n",
       "  </thead>\n",
       "  <tbody>\n",
       "  </tbody>\n",
       "</table>\n",
       "</div>"
      ],
      "text/plain": [
       "Empty DataFrame\n",
       "Columns: [CreditScore, Geography, Gender, Age, Tenure, Balance, NumOfProducts, HasCrCard, IsActiveMember, EstimatedSalary, Exited, Complain, Satisfaction Score, Card Type, Point Earned]\n",
       "Index: []"
      ]
     },
     "execution_count": 19,
     "metadata": {},
     "output_type": "execute_result"
    }
   ],
   "source": [
    "duplicated"
   ]
  },
  {
   "cell_type": "code",
   "execution_count": 20,
   "id": "6d2af92b",
   "metadata": {},
   "outputs": [
    {
     "data": {
      "text/plain": [
       "(0, 15)"
      ]
     },
     "execution_count": 20,
     "metadata": {},
     "output_type": "execute_result"
    }
   ],
   "source": [
    "duplicated.shape"
   ]
  },
  {
   "cell_type": "markdown",
   "id": "2d07feef",
   "metadata": {},
   "source": [
    "- Here, there are **`no duplicated values`**."
   ]
  },
  {
   "cell_type": "code",
   "execution_count": 21,
   "id": "d63c768f",
   "metadata": {},
   "outputs": [
    {
     "data": {
      "text/plain": [
       "CreditScore             int64\n",
       "Geography              object\n",
       "Gender                 object\n",
       "Age                     int64\n",
       "Tenure                  int64\n",
       "Balance               float64\n",
       "NumOfProducts           int64\n",
       "HasCrCard               int64\n",
       "IsActiveMember          int64\n",
       "EstimatedSalary       float64\n",
       "Exited                  int64\n",
       "Complain                int64\n",
       "Satisfaction Score      int64\n",
       "Card Type              object\n",
       "Point Earned            int64\n",
       "dtype: object"
      ]
     },
     "execution_count": 21,
     "metadata": {},
     "output_type": "execute_result"
    }
   ],
   "source": [
    "# finding the data types of the data\n",
    "\n",
    "df.dtypes"
   ]
  },
  {
   "cell_type": "code",
   "execution_count": 22,
   "id": "db74853d",
   "metadata": {},
   "outputs": [
    {
     "data": {
      "text/html": [
       "<div>\n",
       "<style scoped>\n",
       "    .dataframe tbody tr th:only-of-type {\n",
       "        vertical-align: middle;\n",
       "    }\n",
       "\n",
       "    .dataframe tbody tr th {\n",
       "        vertical-align: top;\n",
       "    }\n",
       "\n",
       "    .dataframe thead th {\n",
       "        text-align: right;\n",
       "    }\n",
       "</style>\n",
       "<table border=\"1\" class=\"dataframe\">\n",
       "  <thead>\n",
       "    <tr style=\"text-align: right;\">\n",
       "      <th></th>\n",
       "      <th>CreditScore</th>\n",
       "      <th>Geography</th>\n",
       "      <th>Gender</th>\n",
       "      <th>Age</th>\n",
       "      <th>Tenure</th>\n",
       "      <th>Balance</th>\n",
       "      <th>NumOfProducts</th>\n",
       "      <th>HasCrCard</th>\n",
       "      <th>IsActiveMember</th>\n",
       "      <th>EstimatedSalary</th>\n",
       "      <th>Exited</th>\n",
       "      <th>Complain</th>\n",
       "      <th>Satisfaction Score</th>\n",
       "      <th>Card Type</th>\n",
       "      <th>Point Earned</th>\n",
       "    </tr>\n",
       "  </thead>\n",
       "  <tbody>\n",
       "    <tr>\n",
       "      <th>0</th>\n",
       "      <td>619</td>\n",
       "      <td>France</td>\n",
       "      <td>Female</td>\n",
       "      <td>42</td>\n",
       "      <td>2</td>\n",
       "      <td>0.00</td>\n",
       "      <td>1</td>\n",
       "      <td>1</td>\n",
       "      <td>1</td>\n",
       "      <td>101348.88</td>\n",
       "      <td>1</td>\n",
       "      <td>1</td>\n",
       "      <td>2</td>\n",
       "      <td>DIAMOND</td>\n",
       "      <td>464</td>\n",
       "    </tr>\n",
       "    <tr>\n",
       "      <th>1</th>\n",
       "      <td>608</td>\n",
       "      <td>Spain</td>\n",
       "      <td>Female</td>\n",
       "      <td>41</td>\n",
       "      <td>1</td>\n",
       "      <td>83807.86</td>\n",
       "      <td>1</td>\n",
       "      <td>0</td>\n",
       "      <td>1</td>\n",
       "      <td>112542.58</td>\n",
       "      <td>0</td>\n",
       "      <td>1</td>\n",
       "      <td>3</td>\n",
       "      <td>DIAMOND</td>\n",
       "      <td>456</td>\n",
       "    </tr>\n",
       "    <tr>\n",
       "      <th>2</th>\n",
       "      <td>502</td>\n",
       "      <td>France</td>\n",
       "      <td>Female</td>\n",
       "      <td>42</td>\n",
       "      <td>8</td>\n",
       "      <td>159660.80</td>\n",
       "      <td>3</td>\n",
       "      <td>1</td>\n",
       "      <td>0</td>\n",
       "      <td>113931.57</td>\n",
       "      <td>1</td>\n",
       "      <td>1</td>\n",
       "      <td>3</td>\n",
       "      <td>DIAMOND</td>\n",
       "      <td>377</td>\n",
       "    </tr>\n",
       "    <tr>\n",
       "      <th>3</th>\n",
       "      <td>699</td>\n",
       "      <td>France</td>\n",
       "      <td>Female</td>\n",
       "      <td>39</td>\n",
       "      <td>1</td>\n",
       "      <td>0.00</td>\n",
       "      <td>2</td>\n",
       "      <td>0</td>\n",
       "      <td>0</td>\n",
       "      <td>93826.63</td>\n",
       "      <td>0</td>\n",
       "      <td>0</td>\n",
       "      <td>5</td>\n",
       "      <td>GOLD</td>\n",
       "      <td>350</td>\n",
       "    </tr>\n",
       "    <tr>\n",
       "      <th>4</th>\n",
       "      <td>850</td>\n",
       "      <td>Spain</td>\n",
       "      <td>Female</td>\n",
       "      <td>43</td>\n",
       "      <td>2</td>\n",
       "      <td>125510.82</td>\n",
       "      <td>1</td>\n",
       "      <td>1</td>\n",
       "      <td>1</td>\n",
       "      <td>79084.10</td>\n",
       "      <td>0</td>\n",
       "      <td>0</td>\n",
       "      <td>5</td>\n",
       "      <td>GOLD</td>\n",
       "      <td>425</td>\n",
       "    </tr>\n",
       "  </tbody>\n",
       "</table>\n",
       "</div>"
      ],
      "text/plain": [
       "   CreditScore Geography  Gender  Age  Tenure    Balance  NumOfProducts  \\\n",
       "0          619    France  Female   42       2       0.00              1   \n",
       "1          608     Spain  Female   41       1   83807.86              1   \n",
       "2          502    France  Female   42       8  159660.80              3   \n",
       "3          699    France  Female   39       1       0.00              2   \n",
       "4          850     Spain  Female   43       2  125510.82              1   \n",
       "\n",
       "   HasCrCard  IsActiveMember  EstimatedSalary  Exited  Complain  \\\n",
       "0          1               1        101348.88       1         1   \n",
       "1          0               1        112542.58       0         1   \n",
       "2          1               0        113931.57       1         1   \n",
       "3          0               0         93826.63       0         0   \n",
       "4          1               1         79084.10       0         0   \n",
       "\n",
       "   Satisfaction Score Card Type  Point Earned  \n",
       "0                   2   DIAMOND           464  \n",
       "1                   3   DIAMOND           456  \n",
       "2                   3   DIAMOND           377  \n",
       "3                   5      GOLD           350  \n",
       "4                   5      GOLD           425  "
      ]
     },
     "execution_count": 22,
     "metadata": {},
     "output_type": "execute_result"
    }
   ],
   "source": [
    "df.head()"
   ]
  },
  {
   "cell_type": "markdown",
   "id": "a3787df7",
   "metadata": {},
   "source": [
    "#### Performing the `label encoding in country column` in the data to `reduce the memory` of the data."
   ]
  },
  {
   "cell_type": "code",
   "execution_count": 23,
   "id": "cd2fb8a8",
   "metadata": {},
   "outputs": [],
   "source": [
    "# Changing the 'object type' of Geography column into \"integer\" type.\n",
    "\n",
    "def geography(Geography):\n",
    "    if Geography == \"France\":\n",
    "        return 1\n",
    "    elif Geography == \"Germany\":\n",
    "        return 2\n",
    "    elif Geography == \"Spain\":\n",
    "        return 3\n",
    "    else:\n",
    "        return \"No-Geography\""
   ]
  },
  {
   "cell_type": "code",
   "execution_count": 24,
   "id": "a04e8f46",
   "metadata": {},
   "outputs": [
    {
     "data": {
      "text/html": [
       "<div>\n",
       "<style scoped>\n",
       "    .dataframe tbody tr th:only-of-type {\n",
       "        vertical-align: middle;\n",
       "    }\n",
       "\n",
       "    .dataframe tbody tr th {\n",
       "        vertical-align: top;\n",
       "    }\n",
       "\n",
       "    .dataframe thead th {\n",
       "        text-align: right;\n",
       "    }\n",
       "</style>\n",
       "<table border=\"1\" class=\"dataframe\">\n",
       "  <thead>\n",
       "    <tr style=\"text-align: right;\">\n",
       "      <th></th>\n",
       "      <th>CreditScore</th>\n",
       "      <th>Geography</th>\n",
       "      <th>Gender</th>\n",
       "      <th>Age</th>\n",
       "      <th>Tenure</th>\n",
       "      <th>Balance</th>\n",
       "      <th>NumOfProducts</th>\n",
       "      <th>HasCrCard</th>\n",
       "      <th>IsActiveMember</th>\n",
       "      <th>EstimatedSalary</th>\n",
       "      <th>Exited</th>\n",
       "      <th>Complain</th>\n",
       "      <th>Satisfaction Score</th>\n",
       "      <th>Card Type</th>\n",
       "      <th>Point Earned</th>\n",
       "    </tr>\n",
       "  </thead>\n",
       "  <tbody>\n",
       "    <tr>\n",
       "      <th>0</th>\n",
       "      <td>619</td>\n",
       "      <td>1</td>\n",
       "      <td>Female</td>\n",
       "      <td>42</td>\n",
       "      <td>2</td>\n",
       "      <td>0.00</td>\n",
       "      <td>1</td>\n",
       "      <td>1</td>\n",
       "      <td>1</td>\n",
       "      <td>101348.88</td>\n",
       "      <td>1</td>\n",
       "      <td>1</td>\n",
       "      <td>2</td>\n",
       "      <td>DIAMOND</td>\n",
       "      <td>464</td>\n",
       "    </tr>\n",
       "    <tr>\n",
       "      <th>1</th>\n",
       "      <td>608</td>\n",
       "      <td>3</td>\n",
       "      <td>Female</td>\n",
       "      <td>41</td>\n",
       "      <td>1</td>\n",
       "      <td>83807.86</td>\n",
       "      <td>1</td>\n",
       "      <td>0</td>\n",
       "      <td>1</td>\n",
       "      <td>112542.58</td>\n",
       "      <td>0</td>\n",
       "      <td>1</td>\n",
       "      <td>3</td>\n",
       "      <td>DIAMOND</td>\n",
       "      <td>456</td>\n",
       "    </tr>\n",
       "    <tr>\n",
       "      <th>2</th>\n",
       "      <td>502</td>\n",
       "      <td>1</td>\n",
       "      <td>Female</td>\n",
       "      <td>42</td>\n",
       "      <td>8</td>\n",
       "      <td>159660.80</td>\n",
       "      <td>3</td>\n",
       "      <td>1</td>\n",
       "      <td>0</td>\n",
       "      <td>113931.57</td>\n",
       "      <td>1</td>\n",
       "      <td>1</td>\n",
       "      <td>3</td>\n",
       "      <td>DIAMOND</td>\n",
       "      <td>377</td>\n",
       "    </tr>\n",
       "    <tr>\n",
       "      <th>3</th>\n",
       "      <td>699</td>\n",
       "      <td>1</td>\n",
       "      <td>Female</td>\n",
       "      <td>39</td>\n",
       "      <td>1</td>\n",
       "      <td>0.00</td>\n",
       "      <td>2</td>\n",
       "      <td>0</td>\n",
       "      <td>0</td>\n",
       "      <td>93826.63</td>\n",
       "      <td>0</td>\n",
       "      <td>0</td>\n",
       "      <td>5</td>\n",
       "      <td>GOLD</td>\n",
       "      <td>350</td>\n",
       "    </tr>\n",
       "    <tr>\n",
       "      <th>4</th>\n",
       "      <td>850</td>\n",
       "      <td>3</td>\n",
       "      <td>Female</td>\n",
       "      <td>43</td>\n",
       "      <td>2</td>\n",
       "      <td>125510.82</td>\n",
       "      <td>1</td>\n",
       "      <td>1</td>\n",
       "      <td>1</td>\n",
       "      <td>79084.10</td>\n",
       "      <td>0</td>\n",
       "      <td>0</td>\n",
       "      <td>5</td>\n",
       "      <td>GOLD</td>\n",
       "      <td>425</td>\n",
       "    </tr>\n",
       "  </tbody>\n",
       "</table>\n",
       "</div>"
      ],
      "text/plain": [
       "   CreditScore  Geography  Gender  Age  Tenure    Balance  NumOfProducts  \\\n",
       "0          619          1  Female   42       2       0.00              1   \n",
       "1          608          3  Female   41       1   83807.86              1   \n",
       "2          502          1  Female   42       8  159660.80              3   \n",
       "3          699          1  Female   39       1       0.00              2   \n",
       "4          850          3  Female   43       2  125510.82              1   \n",
       "\n",
       "   HasCrCard  IsActiveMember  EstimatedSalary  Exited  Complain  \\\n",
       "0          1               1        101348.88       1         1   \n",
       "1          0               1        112542.58       0         1   \n",
       "2          1               0        113931.57       1         1   \n",
       "3          0               0         93826.63       0         0   \n",
       "4          1               1         79084.10       0         0   \n",
       "\n",
       "   Satisfaction Score Card Type  Point Earned  \n",
       "0                   2   DIAMOND           464  \n",
       "1                   3   DIAMOND           456  \n",
       "2                   3   DIAMOND           377  \n",
       "3                   5      GOLD           350  \n",
       "4                   5      GOLD           425  "
      ]
     },
     "execution_count": 24,
     "metadata": {},
     "output_type": "execute_result"
    }
   ],
   "source": [
    "df['Geography']=df['Geography'].apply(geography)\n",
    "df.head()"
   ]
  },
  {
   "cell_type": "markdown",
   "id": "8ae86a61",
   "metadata": {},
   "source": [
    "#### Performing the label encoding in Gender column in the data to reduce the memory of the data."
   ]
  },
  {
   "cell_type": "code",
   "execution_count": 25,
   "id": "5b4ed6f0",
   "metadata": {},
   "outputs": [],
   "source": [
    "# Changing the 'object type' of Gender column into \"integer\" type.\n",
    "\n",
    "def gender(Gender):\n",
    "    if Gender == 'Male':\n",
    "        return 1\n",
    "    else:\n",
    "        return 0"
   ]
  },
  {
   "cell_type": "code",
   "execution_count": 26,
   "id": "e58f3d89",
   "metadata": {},
   "outputs": [
    {
     "data": {
      "text/html": [
       "<div>\n",
       "<style scoped>\n",
       "    .dataframe tbody tr th:only-of-type {\n",
       "        vertical-align: middle;\n",
       "    }\n",
       "\n",
       "    .dataframe tbody tr th {\n",
       "        vertical-align: top;\n",
       "    }\n",
       "\n",
       "    .dataframe thead th {\n",
       "        text-align: right;\n",
       "    }\n",
       "</style>\n",
       "<table border=\"1\" class=\"dataframe\">\n",
       "  <thead>\n",
       "    <tr style=\"text-align: right;\">\n",
       "      <th></th>\n",
       "      <th>CreditScore</th>\n",
       "      <th>Geography</th>\n",
       "      <th>Gender</th>\n",
       "      <th>Age</th>\n",
       "      <th>Tenure</th>\n",
       "      <th>Balance</th>\n",
       "      <th>NumOfProducts</th>\n",
       "      <th>HasCrCard</th>\n",
       "      <th>IsActiveMember</th>\n",
       "      <th>EstimatedSalary</th>\n",
       "      <th>Exited</th>\n",
       "      <th>Complain</th>\n",
       "      <th>Satisfaction Score</th>\n",
       "      <th>Card Type</th>\n",
       "      <th>Point Earned</th>\n",
       "    </tr>\n",
       "  </thead>\n",
       "  <tbody>\n",
       "    <tr>\n",
       "      <th>0</th>\n",
       "      <td>619</td>\n",
       "      <td>1</td>\n",
       "      <td>0</td>\n",
       "      <td>42</td>\n",
       "      <td>2</td>\n",
       "      <td>0.00</td>\n",
       "      <td>1</td>\n",
       "      <td>1</td>\n",
       "      <td>1</td>\n",
       "      <td>101348.88</td>\n",
       "      <td>1</td>\n",
       "      <td>1</td>\n",
       "      <td>2</td>\n",
       "      <td>DIAMOND</td>\n",
       "      <td>464</td>\n",
       "    </tr>\n",
       "    <tr>\n",
       "      <th>1</th>\n",
       "      <td>608</td>\n",
       "      <td>3</td>\n",
       "      <td>0</td>\n",
       "      <td>41</td>\n",
       "      <td>1</td>\n",
       "      <td>83807.86</td>\n",
       "      <td>1</td>\n",
       "      <td>0</td>\n",
       "      <td>1</td>\n",
       "      <td>112542.58</td>\n",
       "      <td>0</td>\n",
       "      <td>1</td>\n",
       "      <td>3</td>\n",
       "      <td>DIAMOND</td>\n",
       "      <td>456</td>\n",
       "    </tr>\n",
       "    <tr>\n",
       "      <th>2</th>\n",
       "      <td>502</td>\n",
       "      <td>1</td>\n",
       "      <td>0</td>\n",
       "      <td>42</td>\n",
       "      <td>8</td>\n",
       "      <td>159660.80</td>\n",
       "      <td>3</td>\n",
       "      <td>1</td>\n",
       "      <td>0</td>\n",
       "      <td>113931.57</td>\n",
       "      <td>1</td>\n",
       "      <td>1</td>\n",
       "      <td>3</td>\n",
       "      <td>DIAMOND</td>\n",
       "      <td>377</td>\n",
       "    </tr>\n",
       "    <tr>\n",
       "      <th>3</th>\n",
       "      <td>699</td>\n",
       "      <td>1</td>\n",
       "      <td>0</td>\n",
       "      <td>39</td>\n",
       "      <td>1</td>\n",
       "      <td>0.00</td>\n",
       "      <td>2</td>\n",
       "      <td>0</td>\n",
       "      <td>0</td>\n",
       "      <td>93826.63</td>\n",
       "      <td>0</td>\n",
       "      <td>0</td>\n",
       "      <td>5</td>\n",
       "      <td>GOLD</td>\n",
       "      <td>350</td>\n",
       "    </tr>\n",
       "    <tr>\n",
       "      <th>4</th>\n",
       "      <td>850</td>\n",
       "      <td>3</td>\n",
       "      <td>0</td>\n",
       "      <td>43</td>\n",
       "      <td>2</td>\n",
       "      <td>125510.82</td>\n",
       "      <td>1</td>\n",
       "      <td>1</td>\n",
       "      <td>1</td>\n",
       "      <td>79084.10</td>\n",
       "      <td>0</td>\n",
       "      <td>0</td>\n",
       "      <td>5</td>\n",
       "      <td>GOLD</td>\n",
       "      <td>425</td>\n",
       "    </tr>\n",
       "  </tbody>\n",
       "</table>\n",
       "</div>"
      ],
      "text/plain": [
       "   CreditScore  Geography  Gender  Age  Tenure    Balance  NumOfProducts  \\\n",
       "0          619          1       0   42       2       0.00              1   \n",
       "1          608          3       0   41       1   83807.86              1   \n",
       "2          502          1       0   42       8  159660.80              3   \n",
       "3          699          1       0   39       1       0.00              2   \n",
       "4          850          3       0   43       2  125510.82              1   \n",
       "\n",
       "   HasCrCard  IsActiveMember  EstimatedSalary  Exited  Complain  \\\n",
       "0          1               1        101348.88       1         1   \n",
       "1          0               1        112542.58       0         1   \n",
       "2          1               0        113931.57       1         1   \n",
       "3          0               0         93826.63       0         0   \n",
       "4          1               1         79084.10       0         0   \n",
       "\n",
       "   Satisfaction Score Card Type  Point Earned  \n",
       "0                   2   DIAMOND           464  \n",
       "1                   3   DIAMOND           456  \n",
       "2                   3   DIAMOND           377  \n",
       "3                   5      GOLD           350  \n",
       "4                   5      GOLD           425  "
      ]
     },
     "execution_count": 26,
     "metadata": {},
     "output_type": "execute_result"
    }
   ],
   "source": [
    "df['Gender']=df['Gender'].apply(gender)\n",
    "df.head()"
   ]
  },
  {
   "cell_type": "code",
   "execution_count": 27,
   "id": "57501ef1",
   "metadata": {},
   "outputs": [
    {
     "name": "stdout",
     "output_type": "stream",
     "text": [
      "<class 'pandas.core.frame.DataFrame'>\n",
      "RangeIndex: 10000 entries, 0 to 9999\n",
      "Data columns (total 15 columns):\n",
      " #   Column              Non-Null Count  Dtype  \n",
      "---  ------              --------------  -----  \n",
      " 0   CreditScore         10000 non-null  int64  \n",
      " 1   Geography           10000 non-null  int64  \n",
      " 2   Gender              10000 non-null  int64  \n",
      " 3   Age                 10000 non-null  int64  \n",
      " 4   Tenure              10000 non-null  int64  \n",
      " 5   Balance             10000 non-null  float64\n",
      " 6   NumOfProducts       10000 non-null  int64  \n",
      " 7   HasCrCard           10000 non-null  int64  \n",
      " 8   IsActiveMember      10000 non-null  int64  \n",
      " 9   EstimatedSalary     10000 non-null  float64\n",
      " 10  Exited              10000 non-null  int64  \n",
      " 11  Complain            10000 non-null  int64  \n",
      " 12  Satisfaction Score  10000 non-null  int64  \n",
      " 13  Card Type           10000 non-null  object \n",
      " 14  Point Earned        10000 non-null  int64  \n",
      "dtypes: float64(2), int64(12), object(1)\n",
      "memory usage: 1.1+ MB\n"
     ]
    }
   ],
   "source": [
    "# Now checking the data type of the data\n",
    "\n",
    "df.info()"
   ]
  },
  {
   "cell_type": "markdown",
   "id": "d720f9bb",
   "metadata": {},
   "source": [
    "Now, we have successfully converted all the columns into **'Numerical columns'**.\n",
    "\n",
    "- And the **memory usage is 1.2+ MB.**\n",
    "- The **Memory usage is very less, `but still we can reduce the usage of the memory`.**"
   ]
  },
  {
   "cell_type": "markdown",
   "id": "d76eaf26",
   "metadata": {},
   "source": [
    "### Optimizing Memory Usage of the Dataframe"
   ]
  },
  {
   "cell_type": "markdown",
   "id": "d962eecf",
   "metadata": {},
   "source": [
    "#### Updating the data type of `Geography column.`"
   ]
  },
  {
   "cell_type": "code",
   "execution_count": 28,
   "id": "c9227811",
   "metadata": {},
   "outputs": [
    {
     "name": "stdout",
     "output_type": "stream",
     "text": [
      "Max value entry in Geography column (before conversion):  3\n",
      "Memory usage of Geography column (before conversion):  40128\n",
      "Max value entry in Geography column (after conversion to ordered):  3\n",
      "Memory usage of Geography column (after conversion):  10260\n"
     ]
    }
   ],
   "source": [
    "# Ensuring that the 'Geography' column is of int type (if not already)\n",
    "df['Geography'] = df['Geography'].astype(int)\n",
    "\n",
    "# Checking that the max value in 'Geography' column\n",
    "print('Max value entry in Geography column (before conversion): ', df['Geography'].max())\n",
    "\n",
    "# Memory usage before conversion\n",
    "print('Memory usage of Geography column (before conversion): ', df['Geography'].memory_usage())\n",
    "\n",
    "# Convert 'Geography' column to a categorical type\n",
    "df['Geography'] = df['Geography'].astype('category')\n",
    "\n",
    "# To get the max value, convert it to an ordered categorical type\n",
    "df['Geography'] = df['Geography'].cat.as_ordered()\n",
    "\n",
    "# Now check the max value in 'Geography' column\n",
    "print('Max value entry in Geography column (after conversion to ordered): ', df['Geography'].max())\n",
    "\n",
    "# Memory usage after conversion\n",
    "print('Memory usage of Geography column (after conversion): ', df['Geography'].memory_usage())"
   ]
  },
  {
   "cell_type": "markdown",
   "id": "77f25d19",
   "metadata": {},
   "source": [
    "#### Updating the data type of `Gender column.`"
   ]
  },
  {
   "cell_type": "code",
   "execution_count": 29,
   "id": "e467f8c1",
   "metadata": {},
   "outputs": [
    {
     "name": "stdout",
     "output_type": "stream",
     "text": [
      "Max value entry in Gender column (before conversion):  1\n",
      "Memory usage of Gender column (before conversion):  40128\n",
      "Max value entry in Gender column (after conversion to ordered):  1\n",
      "Memory usage of Gender column (after conversion):  10252\n"
     ]
    }
   ],
   "source": [
    "# Ensuring the 'Gender' column is of int type (if not already)\n",
    "df['Gender'] = df['Gender'].astype(int)\n",
    "\n",
    "# Checking the max value in 'Gender' column\n",
    "print('Max value entry in Gender column (before conversion): ', df['Gender'].max())\n",
    "\n",
    "# Memory usage before conversion\n",
    "print('Memory usage of Gender column (before conversion): ', df['Gender'].memory_usage())\n",
    "\n",
    "# Convert 'Gender' column to a categorical type\n",
    "df['Gender'] = df['Gender'].astype('category')\n",
    "\n",
    "# To get the max value, convert it to an ordered categorical type\n",
    "df['Gender'] = df['Gender'].cat.as_ordered()\n",
    "\n",
    "# Now check the max value in 'Gender' column\n",
    "print('Max value entry in Gender column (after conversion to ordered): ', df['Gender'].max())\n",
    "\n",
    "# Memory usage after conversion\n",
    "print('Memory usage of Gender column (after conversion): ', df['Gender'].memory_usage())"
   ]
  },
  {
   "cell_type": "markdown",
   "id": "6631fd26",
   "metadata": {},
   "source": [
    "#### Updating the data type of `Tenure column.`"
   ]
  },
  {
   "cell_type": "code",
   "execution_count": 30,
   "id": "370defe0",
   "metadata": {},
   "outputs": [
    {
     "name": "stdout",
     "output_type": "stream",
     "text": [
      "Max value entry in Tenure column (before conversion):  10\n",
      "Memory usage of Tenure column (before conversion):  40128\n",
      "Max value entry in Tenure column (after conversion to ordered):  10\n",
      "Memory usage of Tenure column (after conversion):  10516\n"
     ]
    }
   ],
   "source": [
    "# Ensuring the 'Tenure' column is of int type (if not already)\n",
    "df['Tenure'] = df['Tenure'].astype(int)\n",
    "\n",
    "# Checking the max value in 'Tenure' column\n",
    "print('Max value entry in Tenure column (before conversion): ', df['Tenure'].max())\n",
    "\n",
    "# Memory usage before conversion\n",
    "print('Memory usage of Tenure column (before conversion): ', df['Tenure'].memory_usage())\n",
    "\n",
    "# Convert 'Tenure' column to a categorical type\n",
    "df['Tenure'] = df['Tenure'].astype('category')\n",
    "\n",
    "# To get the max value, convert it to an ordered categorical type\n",
    "df['Tenure'] = df['Tenure'].cat.as_ordered()\n",
    "\n",
    "# Now check the max value in 'Tenure' column\n",
    "print('Max value entry in Tenure column (after conversion to ordered): ', df['Tenure'].max())\n",
    "\n",
    "# Memory usage after conversion\n",
    "print('Memory usage of Tenure column (after conversion): ', df['Tenure'].memory_usage())"
   ]
  },
  {
   "cell_type": "markdown",
   "id": "a3c25058",
   "metadata": {},
   "source": [
    "#### Updating the data type of `NumOfProducts column.`"
   ]
  },
  {
   "cell_type": "code",
   "execution_count": 31,
   "id": "90952044",
   "metadata": {},
   "outputs": [
    {
     "name": "stdout",
     "output_type": "stream",
     "text": [
      "Max value entry in NumOfProducts column (before conversion):  4\n",
      "Memory usage of NumOfProducts column (before conversion):  40128\n",
      "Max value entry in NumOfProducts column (after conversion to ordered):  4\n",
      "Memory usage of NumOfProducts column (after conversion):  10332\n"
     ]
    }
   ],
   "source": [
    "# Ensure the 'NumOfProducts' column is of int type (if not already)\n",
    "df['NumOfProducts'] = df['NumOfProducts'].astype(int)\n",
    "\n",
    "# Check the max value in 'NumOfProducts' column\n",
    "print('Max value entry in NumOfProducts column (before conversion): ', df['NumOfProducts'].max())\n",
    "\n",
    "# Memory usage before conversion\n",
    "print('Memory usage of NumOfProducts column (before conversion): ', df['NumOfProducts'].memory_usage())\n",
    "\n",
    "# Convert 'NumOfProducts' column to a categorical type\n",
    "df['NumOfProducts'] = df['NumOfProducts'].astype('category')\n",
    "\n",
    "# To get the max value, convert it to an ordered categorical type\n",
    "df['NumOfProducts'] = df['NumOfProducts'].cat.as_ordered()\n",
    "\n",
    "# Now check the max value in 'NumOfProducts' column\n",
    "print('Max value entry in NumOfProducts column (after conversion to ordered): ', df['NumOfProducts'].max())\n",
    "\n",
    "# Memory usage after conversion\n",
    "print('Memory usage of NumOfProducts column (after conversion): ', df['NumOfProducts'].memory_usage())"
   ]
  },
  {
   "cell_type": "markdown",
   "id": "4a5e1a3e",
   "metadata": {},
   "source": [
    "#### Updating the data type of `HasCrCard column.`"
   ]
  },
  {
   "cell_type": "code",
   "execution_count": 32,
   "id": "5adc84de",
   "metadata": {},
   "outputs": [
    {
     "name": "stdout",
     "output_type": "stream",
     "text": [
      "Max value entry in HasCrCard column (before conversion):  1\n",
      "Memory usage of HasCrCard column (before conversion):  40128\n",
      "Max value entry in HasCrCard column (after conversion to ordered):  1\n",
      "Memory usage of HasCrCard column (after conversion):  10252\n"
     ]
    }
   ],
   "source": [
    "# Ensure the 'HasCrCard' column is of int type (if not already)\n",
    "df['HasCrCard'] = df['HasCrCard'].astype(int)\n",
    "\n",
    "# Check the max value in 'HasCrCard' column\n",
    "print('Max value entry in HasCrCard column (before conversion): ', df['HasCrCard'].max())\n",
    "\n",
    "# Memory usage before conversion\n",
    "print('Memory usage of HasCrCard column (before conversion): ', df['HasCrCard'].memory_usage())\n",
    "\n",
    "# Convert 'HasCrCard' column to a categorical type\n",
    "df['HasCrCard'] = df['HasCrCard'].astype('category')\n",
    "\n",
    "# To get the max value, convert it to an ordered categorical type\n",
    "df['HasCrCard'] = df['HasCrCard'].cat.as_ordered()\n",
    "\n",
    "# Now check the max value in 'HasCrCard' column\n",
    "print('Max value entry in HasCrCard column (after conversion to ordered): ', df['HasCrCard'].max())\n",
    "\n",
    "# Memory usage after conversion\n",
    "print('Memory usage of HasCrCard column (after conversion): ', df['HasCrCard'].memory_usage())"
   ]
  },
  {
   "cell_type": "markdown",
   "id": "e8532e58",
   "metadata": {},
   "source": [
    "#### Updating the data type of `IsActiveMember column.`"
   ]
  },
  {
   "cell_type": "code",
   "execution_count": 33,
   "id": "aee4d42a",
   "metadata": {},
   "outputs": [
    {
     "name": "stdout",
     "output_type": "stream",
     "text": [
      "Max value entry in IsActiveMember column (before conversion):  1\n",
      "Memory usage of IsActiveMember column (before conversion):  40128\n",
      "Max value entry in IsActiveMember column (after conversion to ordered):  1\n",
      "Memory usage of IsActiveMember column (after conversion):  10252\n"
     ]
    }
   ],
   "source": [
    "# Ensure the 'IsActiveMember' column is of int type (if not already)\n",
    "df['IsActiveMember'] = df['IsActiveMember'].astype(int)\n",
    "\n",
    "# Check the max value in 'IsActiveMember' column\n",
    "print('Max value entry in IsActiveMember column (before conversion): ', df['IsActiveMember'].max())\n",
    "\n",
    "# Memory usage before conversion\n",
    "print('Memory usage of IsActiveMember column (before conversion): ', df['IsActiveMember'].memory_usage())\n",
    "\n",
    "# Convert 'IsActiveMember' column to a categorical type\n",
    "df['IsActiveMember'] = df['IsActiveMember'].astype('category')\n",
    "\n",
    "# To get the max value, convert it to an ordered categorical type\n",
    "df['IsActiveMember'] = df['IsActiveMember'].cat.as_ordered()\n",
    "\n",
    "# Now check the max value in 'IsActiveMember' column\n",
    "print('Max value entry in IsActiveMember column (after conversion to ordered): ', df['IsActiveMember'].max())\n",
    "\n",
    "# Memory usage after conversion\n",
    "print('Memory usage of IsActiveMember column (after conversion): ', df['IsActiveMember'].memory_usage())"
   ]
  },
  {
   "cell_type": "markdown",
   "id": "fad0f18a",
   "metadata": {},
   "source": [
    "#### Updating the data type of `Exited column.`"
   ]
  },
  {
   "cell_type": "code",
   "execution_count": 34,
   "id": "52ed131e",
   "metadata": {},
   "outputs": [
    {
     "name": "stdout",
     "output_type": "stream",
     "text": [
      "Max value entry in Exited column (before conversion):  1\n",
      "Memory usage of Exited column (before conversion):  40128\n",
      "Max value entry in Exited column (after conversion to ordered):  1\n",
      "Memory usage of Exited column (after conversion):  10252\n"
     ]
    }
   ],
   "source": [
    "# Ensure the 'Exited' column is of int type (if not already)\n",
    "df['Exited'] = df['Exited'].astype(int)\n",
    "\n",
    "# Check the max value in 'Exited' column\n",
    "print('Max value entry in Exited column (before conversion): ', df['Exited'].max())\n",
    "\n",
    "# Memory usage before conversion\n",
    "print('Memory usage of Exited column (before conversion): ', df['Exited'].memory_usage())\n",
    "\n",
    "# Convert 'Exited' column to a categorical type\n",
    "df['Exited'] = df['Exited'].astype('category')\n",
    "\n",
    "# To get the max value, convert it to an ordered categorical type\n",
    "df['Exited'] = df['Exited'].cat.as_ordered()\n",
    "\n",
    "# Now check the max value in 'Exited' column\n",
    "print('Max value entry in Exited column (after conversion to ordered): ', df['Exited'].max())\n",
    "\n",
    "# Memory usage after conversion\n",
    "print('Memory usage of Exited column (after conversion): ', df['Exited'].memory_usage())"
   ]
  },
  {
   "cell_type": "markdown",
   "id": "3a712d05",
   "metadata": {},
   "source": [
    "#### Updating the data type of `Complain column.`"
   ]
  },
  {
   "cell_type": "code",
   "execution_count": 35,
   "id": "d28c8da8",
   "metadata": {},
   "outputs": [
    {
     "name": "stdout",
     "output_type": "stream",
     "text": [
      "Max value entry in Complain column (before conversion):  1\n",
      "Memory usage of Complain column (before conversion):  40128\n",
      "Max value entry in Complain column (after conversion to ordered):  1\n",
      "Memory usage of Complain column (after conversion):  10252\n"
     ]
    }
   ],
   "source": [
    "# Ensure the 'Complain' column is of int type (if not already)\n",
    "df['Complain'] = df['Complain'].astype(int)\n",
    "\n",
    "# Check the max value in 'Complain' column\n",
    "print('Max value entry in Complain column (before conversion): ', df['Complain'].max())\n",
    "\n",
    "# Memory usage before conversion\n",
    "print('Memory usage of Complain column (before conversion): ', df['Complain'].memory_usage())\n",
    "\n",
    "# Convert 'Complain' column to a categorical type\n",
    "df['Complain'] = df['Complain'].astype('category')\n",
    "\n",
    "# To get the max value, convert it to an ordered categorical type\n",
    "df['Complain'] = df['Complain'].cat.as_ordered()\n",
    "\n",
    "# Now check the max value in 'Complain' column\n",
    "print('Max value entry in Complain column (after conversion to ordered): ', df['Complain'].max())\n",
    "\n",
    "# Memory usage after conversion\n",
    "print('Memory usage of Complain column (after conversion): ', df['Complain'].memory_usage())"
   ]
  },
  {
   "cell_type": "markdown",
   "id": "4a5727e4",
   "metadata": {},
   "source": [
    "#### Updating the data type of `Satisfaction Score column.`"
   ]
  },
  {
   "cell_type": "code",
   "execution_count": 36,
   "id": "852bf80f",
   "metadata": {},
   "outputs": [
    {
     "name": "stdout",
     "output_type": "stream",
     "text": [
      "Max value entry in Satisfaction Score column (before conversion):  5\n",
      "Memory usage of Satisfaction Score column (before conversion):  40128\n",
      "Max value entry in Satisfaction Score column (after conversion to ordered):  5\n",
      "Memory usage of Satisfaction Score column (after conversion):  10340\n"
     ]
    }
   ],
   "source": [
    "# Ensure the 'Satisfaction Score' column is of int type (if not already)\n",
    "df['Satisfaction Score'] = df['Satisfaction Score'].astype(int)\n",
    "\n",
    "# Check the max value in 'Satisfaction Score' column\n",
    "print('Max value entry in Satisfaction Score column (before conversion): ', df['Satisfaction Score'].max())\n",
    "\n",
    "# Memory usage before conversion\n",
    "print('Memory usage of Satisfaction Score column (before conversion): ', df['Satisfaction Score'].memory_usage())\n",
    "\n",
    "# Convert 'Satisfaction Score' column to a categorical type\n",
    "df['Satisfaction Score'] = df['Satisfaction Score'].astype('category')\n",
    "\n",
    "# To get the max value, convert it to an ordered categorical type\n",
    "df['Satisfaction Score'] = df['Satisfaction Score'].cat.as_ordered()\n",
    "\n",
    "# Now check the max value in 'Satisfaction Score' column\n",
    "print('Max value entry in Satisfaction Score column (after conversion to ordered): ', df['Satisfaction Score'].max())\n",
    "\n",
    "# Memory usage after conversion\n",
    "print('Memory usage of Satisfaction Score column (after conversion): ', df['Satisfaction Score'].memory_usage())"
   ]
  },
  {
   "cell_type": "markdown",
   "id": "381a825b",
   "metadata": {},
   "source": [
    "#### Updating the data type of `Card Type column.`"
   ]
  },
  {
   "cell_type": "code",
   "execution_count": 37,
   "id": "dcab6e90",
   "metadata": {},
   "outputs": [
    {
     "name": "stdout",
     "output_type": "stream",
     "text": [
      "Memory usage of Card Type column :  80128\n",
      "Updated Memory usage of season column :  10332\n"
     ]
    }
   ],
   "source": [
    "print('Memory usage of Card Type column : ', df['Card Type'].memory_usage())\n",
    "# Since the dtype of Card Type column is object, we can convert the dtype to category to save memory\n",
    "df['Card Type'] = df['Card Type'].astype('category')\n",
    "print('Updated Memory usage of season column : ',df['Card Type'].memory_usage())"
   ]
  },
  {
   "cell_type": "markdown",
   "id": "af2ea0f5",
   "metadata": {},
   "source": [
    "#### Updating the data type of `CreditScore column.`"
   ]
  },
  {
   "cell_type": "code",
   "execution_count": 38,
   "id": "346e103e",
   "metadata": {},
   "outputs": [
    {
     "name": "stdout",
     "output_type": "stream",
     "text": [
      "Max value entry in CreditScore column:  850\n",
      "Memory usage of CreditScore column (before conversion):  80128\n",
      "Updated memory usage of CreditScore column (after conversion):  20128\n"
     ]
    }
   ],
   "source": [
    "# Check the max value in 'CreditScore' column\n",
    "print('Max value entry in CreditScore column: ', df['CreditScore'].max())\n",
    "\n",
    "# Memory usage before conversion\n",
    "print('Memory usage of CreditScore column (before conversion): ', df['CreditScore'].memory_usage())\n",
    "\n",
    "# Convert 'CreditScore' column to int8 type\n",
    "df['CreditScore'] = df['CreditScore'].astype('int16')\n",
    "\n",
    "# Memory usage after conversion\n",
    "print('Updated memory usage of CreditScore column (after conversion): ', df['CreditScore'].memory_usage())"
   ]
  },
  {
   "cell_type": "markdown",
   "id": "ea4c1dfa",
   "metadata": {},
   "source": [
    "#### Updating the data type of `Age column.`"
   ]
  },
  {
   "cell_type": "code",
   "execution_count": 39,
   "id": "3db86a4d",
   "metadata": {},
   "outputs": [
    {
     "name": "stdout",
     "output_type": "stream",
     "text": [
      "Max value entry in Age column:  92\n",
      "Memory usage of Age column (before conversion):  80128\n",
      "Updated memory usage of Age column (after conversion):  10128\n"
     ]
    }
   ],
   "source": [
    "# Check the max value in 'Age' column\n",
    "print('Max value entry in Age column: ', df['Age'].max())\n",
    "\n",
    "# Memory usage before conversion\n",
    "print('Memory usage of Age column (before conversion): ', df['Age'].memory_usage())\n",
    "\n",
    "# Convert 'Age' column to int8 type\n",
    "df['Age'] = df['Age'].astype('int8')\n",
    "\n",
    "# Memory usage after conversion\n",
    "print('Updated memory usage of Age column (after conversion): ', df['Age'].memory_usage())"
   ]
  },
  {
   "cell_type": "markdown",
   "id": "8c3cbe7b",
   "metadata": {},
   "source": [
    "#### Updating the data type of `Point Earned column.`"
   ]
  },
  {
   "cell_type": "code",
   "execution_count": 40,
   "id": "f21c4295",
   "metadata": {},
   "outputs": [
    {
     "name": "stdout",
     "output_type": "stream",
     "text": [
      "Max value entry in Point Earned column:  1000\n",
      "Memory usage of Point Earned column (before conversion):  80128\n",
      "Updated memory usage of Point Earned column (after conversion):  20128\n"
     ]
    }
   ],
   "source": [
    "# Check the max value in 'Point Earned' column\n",
    "print('Max value entry in Point Earned column: ', df['Point Earned'].max())\n",
    "\n",
    "# Memory usage before conversion\n",
    "print('Memory usage of Point Earned column (before conversion): ', df['Point Earned'].memory_usage())\n",
    "\n",
    "# Convert 'Point Earned' column to int8 type\n",
    "df['Point Earned'] = df['Point Earned'].astype('int16')\n",
    "\n",
    "# Memory usage after conversion\n",
    "print('Updated memory usage of Point Earned column (after conversion): ', df['Point Earned'].memory_usage())"
   ]
  },
  {
   "cell_type": "code",
   "execution_count": 41,
   "id": "7a512e3e",
   "metadata": {
    "scrolled": false
   },
   "outputs": [
    {
     "name": "stdout",
     "output_type": "stream",
     "text": [
      "<class 'pandas.core.frame.DataFrame'>\n",
      "RangeIndex: 10000 entries, 0 to 9999\n",
      "Data columns (total 15 columns):\n",
      " #   Column              Non-Null Count  Dtype   \n",
      "---  ------              --------------  -----   \n",
      " 0   CreditScore         10000 non-null  int16   \n",
      " 1   Geography           10000 non-null  category\n",
      " 2   Gender              10000 non-null  category\n",
      " 3   Age                 10000 non-null  int8    \n",
      " 4   Tenure              10000 non-null  category\n",
      " 5   Balance             10000 non-null  float64 \n",
      " 6   NumOfProducts       10000 non-null  category\n",
      " 7   HasCrCard           10000 non-null  category\n",
      " 8   IsActiveMember      10000 non-null  category\n",
      " 9   EstimatedSalary     10000 non-null  float64 \n",
      " 10  Exited              10000 non-null  category\n",
      " 11  Complain            10000 non-null  category\n",
      " 12  Satisfaction Score  10000 non-null  category\n",
      " 13  Card Type           10000 non-null  category\n",
      " 14  Point Earned        10000 non-null  int16   \n",
      "dtypes: category(10), float64(2), int16(2), int8(1)\n",
      "memory usage: 304.6 KB\n"
     ]
    }
   ],
   "source": [
    "df.info()"
   ]
  },
  {
   "cell_type": "markdown",
   "id": "329551ae",
   "metadata": {},
   "source": [
    "- Before optimizing, the `memory usage is 1.2+ MB.`\n",
    "\n",
    "- After optimizing, the `memory usage is 304.6 KB.`"
   ]
  },
  {
   "cell_type": "markdown",
   "id": "38717d12",
   "metadata": {},
   "source": [
    "### Differentiating the `categorical and numerical columns`"
   ]
  },
  {
   "cell_type": "code",
   "execution_count": 42,
   "id": "fae83e0b",
   "metadata": {},
   "outputs": [
    {
     "data": {
      "text/plain": [
       "['CreditScore', 'Age', 'Balance', 'EstimatedSalary', 'Point Earned']"
      ]
     },
     "execution_count": 42,
     "metadata": {},
     "output_type": "execute_result"
    }
   ],
   "source": [
    "# Differentiating the num columns\n",
    "\n",
    "num_cols = df.dtypes !='category'\n",
    "num_cols = list(num_cols[num_cols].index)\n",
    "num_cols"
   ]
  },
  {
   "cell_type": "code",
   "execution_count": 43,
   "id": "716f9d65",
   "metadata": {},
   "outputs": [
    {
     "data": {
      "text/plain": [
       "['Geography',\n",
       " 'Gender',\n",
       " 'Tenure',\n",
       " 'NumOfProducts',\n",
       " 'HasCrCard',\n",
       " 'IsActiveMember',\n",
       " 'Exited',\n",
       " 'Complain',\n",
       " 'Satisfaction Score',\n",
       " 'Card Type']"
      ]
     },
     "execution_count": 43,
     "metadata": {},
     "output_type": "execute_result"
    }
   ],
   "source": [
    "# Differentiating the cat columns\n",
    "\n",
    "cat_cols = df.dtypes =='category'\n",
    "cat_cols = list(cat_cols[cat_cols].index)\n",
    "cat_cols"
   ]
  },
  {
   "cell_type": "code",
   "execution_count": 44,
   "id": "1b8d2b81",
   "metadata": {},
   "outputs": [
    {
     "data": {
      "text/html": [
       "<div>\n",
       "<style scoped>\n",
       "    .dataframe tbody tr th:only-of-type {\n",
       "        vertical-align: middle;\n",
       "    }\n",
       "\n",
       "    .dataframe tbody tr th {\n",
       "        vertical-align: top;\n",
       "    }\n",
       "\n",
       "    .dataframe thead th {\n",
       "        text-align: right;\n",
       "    }\n",
       "</style>\n",
       "<table border=\"1\" class=\"dataframe\">\n",
       "  <thead>\n",
       "    <tr style=\"text-align: right;\">\n",
       "      <th></th>\n",
       "      <th>CreditScore</th>\n",
       "      <th>Geography</th>\n",
       "      <th>Gender</th>\n",
       "      <th>Age</th>\n",
       "      <th>Tenure</th>\n",
       "      <th>Balance</th>\n",
       "      <th>NumOfProducts</th>\n",
       "      <th>HasCrCard</th>\n",
       "      <th>IsActiveMember</th>\n",
       "      <th>EstimatedSalary</th>\n",
       "      <th>Exited</th>\n",
       "      <th>Complain</th>\n",
       "      <th>Satisfaction Score</th>\n",
       "      <th>Card Type</th>\n",
       "      <th>Point Earned</th>\n",
       "    </tr>\n",
       "  </thead>\n",
       "  <tbody>\n",
       "    <tr>\n",
       "      <th>0</th>\n",
       "      <td>619</td>\n",
       "      <td>1</td>\n",
       "      <td>0</td>\n",
       "      <td>42</td>\n",
       "      <td>2</td>\n",
       "      <td>0.00</td>\n",
       "      <td>1</td>\n",
       "      <td>1</td>\n",
       "      <td>1</td>\n",
       "      <td>101348.88</td>\n",
       "      <td>1</td>\n",
       "      <td>1</td>\n",
       "      <td>2</td>\n",
       "      <td>DIAMOND</td>\n",
       "      <td>464</td>\n",
       "    </tr>\n",
       "    <tr>\n",
       "      <th>1</th>\n",
       "      <td>608</td>\n",
       "      <td>3</td>\n",
       "      <td>0</td>\n",
       "      <td>41</td>\n",
       "      <td>1</td>\n",
       "      <td>83807.86</td>\n",
       "      <td>1</td>\n",
       "      <td>0</td>\n",
       "      <td>1</td>\n",
       "      <td>112542.58</td>\n",
       "      <td>0</td>\n",
       "      <td>1</td>\n",
       "      <td>3</td>\n",
       "      <td>DIAMOND</td>\n",
       "      <td>456</td>\n",
       "    </tr>\n",
       "    <tr>\n",
       "      <th>2</th>\n",
       "      <td>502</td>\n",
       "      <td>1</td>\n",
       "      <td>0</td>\n",
       "      <td>42</td>\n",
       "      <td>8</td>\n",
       "      <td>159660.80</td>\n",
       "      <td>3</td>\n",
       "      <td>1</td>\n",
       "      <td>0</td>\n",
       "      <td>113931.57</td>\n",
       "      <td>1</td>\n",
       "      <td>1</td>\n",
       "      <td>3</td>\n",
       "      <td>DIAMOND</td>\n",
       "      <td>377</td>\n",
       "    </tr>\n",
       "    <tr>\n",
       "      <th>3</th>\n",
       "      <td>699</td>\n",
       "      <td>1</td>\n",
       "      <td>0</td>\n",
       "      <td>39</td>\n",
       "      <td>1</td>\n",
       "      <td>0.00</td>\n",
       "      <td>2</td>\n",
       "      <td>0</td>\n",
       "      <td>0</td>\n",
       "      <td>93826.63</td>\n",
       "      <td>0</td>\n",
       "      <td>0</td>\n",
       "      <td>5</td>\n",
       "      <td>GOLD</td>\n",
       "      <td>350</td>\n",
       "    </tr>\n",
       "    <tr>\n",
       "      <th>4</th>\n",
       "      <td>850</td>\n",
       "      <td>3</td>\n",
       "      <td>0</td>\n",
       "      <td>43</td>\n",
       "      <td>2</td>\n",
       "      <td>125510.82</td>\n",
       "      <td>1</td>\n",
       "      <td>1</td>\n",
       "      <td>1</td>\n",
       "      <td>79084.10</td>\n",
       "      <td>0</td>\n",
       "      <td>0</td>\n",
       "      <td>5</td>\n",
       "      <td>GOLD</td>\n",
       "      <td>425</td>\n",
       "    </tr>\n",
       "  </tbody>\n",
       "</table>\n",
       "</div>"
      ],
      "text/plain": [
       "   CreditScore Geography Gender  Age Tenure    Balance NumOfProducts  \\\n",
       "0          619         1      0   42      2       0.00             1   \n",
       "1          608         3      0   41      1   83807.86             1   \n",
       "2          502         1      0   42      8  159660.80             3   \n",
       "3          699         1      0   39      1       0.00             2   \n",
       "4          850         3      0   43      2  125510.82             1   \n",
       "\n",
       "  HasCrCard IsActiveMember  EstimatedSalary Exited Complain  \\\n",
       "0         1              1        101348.88      1        1   \n",
       "1         0              1        112542.58      0        1   \n",
       "2         1              0        113931.57      1        1   \n",
       "3         0              0         93826.63      0        0   \n",
       "4         1              1         79084.10      0        0   \n",
       "\n",
       "  Satisfaction Score Card Type  Point Earned  \n",
       "0                  2   DIAMOND           464  \n",
       "1                  3   DIAMOND           456  \n",
       "2                  3   DIAMOND           377  \n",
       "3                  5      GOLD           350  \n",
       "4                  5      GOLD           425  "
      ]
     },
     "execution_count": 44,
     "metadata": {},
     "output_type": "execute_result"
    }
   ],
   "source": [
    "df.head()"
   ]
  },
  {
   "cell_type": "markdown",
   "id": "611a9470",
   "metadata": {},
   "source": [
    "# Univariate Analysis"
   ]
  },
  {
   "cell_type": "markdown",
   "id": "4ea24530",
   "metadata": {},
   "source": [
    "UniVariate analysis for cat columns."
   ]
  },
  {
   "cell_type": "code",
   "execution_count": 45,
   "id": "23efa409",
   "metadata": {},
   "outputs": [
    {
     "data": {
      "text/plain": [
       "1    50.14\n",
       "2    25.09\n",
       "3    24.77\n",
       "Name: Geography, dtype: float64"
      ]
     },
     "execution_count": 45,
     "metadata": {},
     "output_type": "execute_result"
    }
   ],
   "source": [
    "df['Geography'].value_counts()/len(df)*100"
   ]
  },
  {
   "cell_type": "code",
   "execution_count": 46,
   "id": "2e1691f5",
   "metadata": {},
   "outputs": [
    {
     "data": {
      "text/plain": [
       "1    54.57\n",
       "0    45.43\n",
       "Name: Gender, dtype: float64"
      ]
     },
     "execution_count": 46,
     "metadata": {},
     "output_type": "execute_result"
    }
   ],
   "source": [
    "df['Gender'].value_counts()/len(df)*100"
   ]
  },
  {
   "cell_type": "code",
   "execution_count": 47,
   "id": "71ad7986",
   "metadata": {},
   "outputs": [
    {
     "data": {
      "text/plain": [
       "2     10.48\n",
       "1     10.35\n",
       "7     10.28\n",
       "8     10.25\n",
       "5     10.12\n",
       "3     10.09\n",
       "4      9.89\n",
       "9      9.84\n",
       "6      9.67\n",
       "10     4.90\n",
       "0      4.13\n",
       "Name: Tenure, dtype: float64"
      ]
     },
     "execution_count": 47,
     "metadata": {},
     "output_type": "execute_result"
    }
   ],
   "source": [
    "df['Tenure'].value_counts()/len(df)*100"
   ]
  },
  {
   "cell_type": "code",
   "execution_count": 48,
   "id": "83b023fc",
   "metadata": {},
   "outputs": [
    {
     "data": {
      "text/plain": [
       "DIAMOND     25.07\n",
       "GOLD        25.02\n",
       "SILVER      24.96\n",
       "PLATINUM    24.95\n",
       "Name: Card Type, dtype: float64"
      ]
     },
     "execution_count": 48,
     "metadata": {},
     "output_type": "execute_result"
    }
   ],
   "source": [
    "df['Card Type'].value_counts()/len(df)*100"
   ]
  },
  {
   "cell_type": "code",
   "execution_count": 49,
   "id": "76664c75",
   "metadata": {},
   "outputs": [
    {
     "data": {
      "image/png": "[encoded data removed]",
      "text/plain": [
       "<Figure size 800x300 with 1 Axes>"
      ]
     },
     "metadata": {},
     "output_type": "display_data"
    }
   ],
   "source": [
    "plt.figure(figsize=(8,3))\n",
    "sns.countplot(data=df, x=df['Tenure'])\n",
    "plt.show()"
   ]
  },
  {
   "cell_type": "code",
   "execution_count": 50,
   "id": "6efc02bc",
   "metadata": {},
   "outputs": [
    {
     "data": {
      "text/plain": [
       "1    50.84\n",
       "2    45.90\n",
       "3     2.66\n",
       "4     0.60\n",
       "Name: NumOfProducts, dtype: float64"
      ]
     },
     "execution_count": 50,
     "metadata": {},
     "output_type": "execute_result"
    }
   ],
   "source": [
    "df['NumOfProducts'].value_counts()/len(df)*100"
   ]
  },
  {
   "cell_type": "code",
   "execution_count": 51,
   "id": "283d3398",
   "metadata": {},
   "outputs": [
    {
     "data": {
      "text/plain": [
       "0    79.62\n",
       "1    20.38\n",
       "Name: Exited, dtype: float64"
      ]
     },
     "execution_count": 51,
     "metadata": {},
     "output_type": "execute_result"
    }
   ],
   "source": [
    "df['Exited'].value_counts()/len(df)*100"
   ]
  },
  {
   "cell_type": "code",
   "execution_count": 52,
   "id": "1105f684",
   "metadata": {
    "scrolled": false
   },
   "outputs": [
    {
     "data": {
      "image/png": "[encoded data removed]",
      "text/plain": [
       "<Figure size 800x300 with 1 Axes>"
      ]
     },
     "metadata": {},
     "output_type": "display_data"
    },
    {
     "data": {
      "image/png": "[encoded data removed]",
      "text/plain": [
       "<Figure size 800x300 with 1 Axes>"
      ]
     },
     "metadata": {},
     "output_type": "display_data"
    },
    {
     "data": {
      "image/png": "[encoded data removed]",
      "text/plain": [
       "<Figure size 800x300 with 1 Axes>"
      ]
     },
     "metadata": {},
     "output_type": "display_data"
    },
    {
     "data": {
      "image/png": "[encoded data removed]",
      "text/plain": [
       "<Figure size 800x300 with 1 Axes>"
      ]
     },
     "metadata": {},
     "output_type": "display_data"
    },
    {
     "data": {
      "image/png": "[encoded data removed]",
      "text/plain": [
       "<Figure size 800x300 with 1 Axes>"
      ]
     },
     "metadata": {},
     "output_type": "display_data"
    },
    {
     "data": {
      "image/png": "[encoded data removed]",
      "text/plain": [
       "<Figure size 800x300 with 1 Axes>"
      ]
     },
     "metadata": {},
     "output_type": "display_data"
    },
    {
     "data": {
      "image/png": "[encoded data removed]",
      "text/plain": [
       "<Figure size 800x300 with 1 Axes>"
      ]
     },
     "metadata": {},
     "output_type": "display_data"
    },
    {
     "data": {
      "image/png": "[encoded data removed]",
      "text/plain": [
       "<Figure size 800x300 with 1 Axes>"
      ]
     },
     "metadata": {},
     "output_type": "display_data"
    },
    {
     "data": {
      "image/png": "[encoded data removed]",
      "text/plain": [
       "<Figure size 800x300 with 1 Axes>"
      ]
     },
     "metadata": {},
     "output_type": "display_data"
    },
    {
     "data": {
      "image/png": "[encoded data removed]",
      "text/plain": [
       "<Figure size 800x300 with 1 Axes>"
      ]
     },
     "metadata": {},
     "output_type": "display_data"
    }
   ],
   "source": [
    "for i in cat_cols:\n",
    "    plt.figure(figsize=(8,3))\n",
    "    sns.countplot(data=df, x=df[i])\n",
    "    plt.show()"
   ]
  },
  {
   "cell_type": "markdown",
   "id": "cb80683d",
   "metadata": {},
   "source": [
    "### Insights"
   ]
  },
  {
   "cell_type": "markdown",
   "id": "ea77b101",
   "metadata": {},
   "source": [
    "- **`Around 50% of customers are from France.`**\n",
    "- There are more customers in `Male` then `Female`. But, both are almost same in number.\n",
    "- In most cases, the `Tenure is between 1-9 years`.\n",
    "- Almost all customers is **`having one or two products`**. People are `less likely to havee more than 2 products`.\n",
    "- 70% customers are having Credit Card.\n",
    "- Around 20% people are exited from the bank and 80% remain in the bank. Therefore, the **churn rate is 20%.**"
   ]
  },
  {
   "cell_type": "markdown",
   "id": "c97d5579",
   "metadata": {},
   "source": [
    "### Finding the distribution of the Numerical columns"
   ]
  },
  {
   "cell_type": "code",
   "execution_count": 53,
   "id": "c42cfe87",
   "metadata": {},
   "outputs": [
    {
     "data": {
      "image/png": "[encoded data removed]",
      "text/plain": [
       "<Figure size 800x300 with 1 Axes>"
      ]
     },
     "metadata": {},
     "output_type": "display_data"
    },
    {
     "data": {
      "image/png": "[encoded data removed]",
      "text/plain": [
       "<Figure size 800x300 with 1 Axes>"
      ]
     },
     "metadata": {},
     "output_type": "display_data"
    },
    {
     "data": {
      "image/png": "[encoded data removed]",
      "text/plain": [
       "<Figure size 800x300 with 1 Axes>"
      ]
     },
     "metadata": {},
     "output_type": "display_data"
    },
    {
     "data": {
      "image/png": "[encoded data removed]",
      "text/plain": [
       "<Figure size 800x300 with 1 Axes>"
      ]
     },
     "metadata": {},
     "output_type": "display_data"
    },
    {
     "data": {
      "image/png": "[encoded data removed]",
      "text/plain": [
       "<Figure size 800x300 with 1 Axes>"
      ]
     },
     "metadata": {},
     "output_type": "display_data"
    }
   ],
   "source": [
    "for i in num_cols:\n",
    "    plt.figure(figsize=(8,3))\n",
    "    sns.histplot(data=df, x=i, kde=1)\n",
    "    plt.show()"
   ]
  },
  {
   "cell_type": "markdown",
   "id": "7c5eeb4f",
   "metadata": {},
   "source": [
    "# Bivariate Analysis"
   ]
  },
  {
   "cell_type": "markdown",
   "id": "aadb8ab5",
   "metadata": {},
   "source": [
    "### Target variable vs categorical variables"
   ]
  },
  {
   "cell_type": "code",
   "execution_count": 54,
   "id": "c7aa76ad",
   "metadata": {},
   "outputs": [],
   "source": [
    "df_exited = df[df['Exited']==1]"
   ]
  },
  {
   "cell_type": "code",
   "execution_count": 55,
   "id": "5afd127f",
   "metadata": {},
   "outputs": [],
   "source": [
    "df_nonexited = df[df['Exited']==0]"
   ]
  },
  {
   "cell_type": "code",
   "execution_count": 56,
   "id": "6531b6ff",
   "metadata": {},
   "outputs": [
    {
     "data": {
      "image/png": "[encoded data removed]",
      "text/plain": [
       "<Figure size 800x300 with 1 Axes>"
      ]
     },
     "metadata": {},
     "output_type": "display_data"
    },
    {
     "data": {
      "image/png": "[encoded data removed]",
      "text/plain": [
       "<Figure size 800x300 with 1 Axes>"
      ]
     },
     "metadata": {},
     "output_type": "display_data"
    },
    {
     "data": {
      "image/png": "[encoded data removed]",
      "text/plain": [
       "<Figure size 800x300 with 1 Axes>"
      ]
     },
     "metadata": {},
     "output_type": "display_data"
    },
    {
     "data": {
      "image/png": "[encoded data removed]",
      "text/plain": [
       "<Figure size 800x300 with 1 Axes>"
      ]
     },
     "metadata": {},
     "output_type": "display_data"
    },
    {
     "data": {
      "image/png": "[encoded data removed]",
      "text/plain": [
       "<Figure size 800x300 with 1 Axes>"
      ]
     },
     "metadata": {},
     "output_type": "display_data"
    },
    {
     "data": {
      "image/png": "[encoded data removed]",
      "text/plain": [
       "<Figure size 800x300 with 1 Axes>"
      ]
     },
     "metadata": {},
     "output_type": "display_data"
    },
    {
     "data": {
      "image/png": "[encoded data removed]",
      "text/plain": [
       "<Figure size 800x300 with 1 Axes>"
      ]
     },
     "metadata": {},
     "output_type": "display_data"
    },
    {
     "data": {
      "image/png": "[encoded data removed]",
      "text/plain": [
       "<Figure size 800x300 with 1 Axes>"
      ]
     },
     "metadata": {},
     "output_type": "display_data"
    },
    {
     "data": {
      "image/png": "[encoded data removed]",
      "text/plain": [
       "<Figure size 800x300 with 1 Axes>"
      ]
     },
     "metadata": {},
     "output_type": "display_data"
    },
    {
     "data": {
      "image/png": "[encoded data removed]",
      "text/plain": [
       "<Figure size 800x300 with 1 Axes>"
      ]
     },
     "metadata": {},
     "output_type": "display_data"
    }
   ],
   "source": [
    "# Count plot of catogerical columns.\n",
    "for i in cat_cols:\n",
    "    plt.figure(figsize=(8,3))\n",
    "    sns.countplot(data=df, x=i, hue= df['Exited'])\n",
    "    plt.show()    "
   ]
  },
  {
   "cell_type": "markdown",
   "id": "8d8a5993",
   "metadata": {},
   "source": [
    "- Customers having `2 products` are more likely to stay with the banks for the `longer time.`\n",
    "- Almost all the customers **who raised the complaint are churned from the bank.**\n",
    "- Customers who are **`inactive`** `is more likely to churn` compared to active customers"
   ]
  },
  {
   "cell_type": "markdown",
   "id": "546d83e1",
   "metadata": {},
   "source": [
    "### Target variable vs numerical columns"
   ]
  },
  {
   "cell_type": "code",
   "execution_count": 57,
   "id": "93dee354",
   "metadata": {},
   "outputs": [
    {
     "data": {
      "image/png": "[encoded data removed]",
      "text/plain": [
       "<Figure size 800x300 with 1 Axes>"
      ]
     },
     "metadata": {},
     "output_type": "display_data"
    },
    {
     "data": {
      "image/png": "[encoded data removed]",
      "text/plain": [
       "<Figure size 800x300 with 1 Axes>"
      ]
     },
     "metadata": {},
     "output_type": "display_data"
    },
    {
     "data": {
      "image/png": "[encoded data removed]",
      "text/plain": [
       "<Figure size 800x300 with 1 Axes>"
      ]
     },
     "metadata": {},
     "output_type": "display_data"
    },
    {
     "data": {
      "image/png": "[encoded data removed]",
      "text/plain": [
       "<Figure size 800x300 with 1 Axes>"
      ]
     },
     "metadata": {},
     "output_type": "display_data"
    },
    {
     "data": {
      "image/png": "[encoded data removed]",
      "text/plain": [
       "<Figure size 800x300 with 1 Axes>"
      ]
     },
     "metadata": {},
     "output_type": "display_data"
    }
   ],
   "source": [
    "for i in num_cols:\n",
    "    plt.figure(figsize=(8,3))\n",
    "    sns.boxplot(data=df, x=i, y='Exited')\n",
    "    plt.show()"
   ]
  },
  {
   "cell_type": "code",
   "execution_count": 58,
   "id": "b51e0ded",
   "metadata": {},
   "outputs": [
    {
     "data": {
      "image/png": "[encoded data removed]",
      "text/plain": [
       "<Figure size 800x300 with 1 Axes>"
      ]
     },
     "metadata": {},
     "output_type": "display_data"
    }
   ],
   "source": [
    "plt.figure(figsize=(8,3))\n",
    "sns.histplot(data=df_exited, x=df['Age'], kde=1)\n",
    "plt.show()"
   ]
  },
  {
   "cell_type": "code",
   "execution_count": 59,
   "id": "5b8ef567",
   "metadata": {},
   "outputs": [
    {
     "data": {
      "image/png": "[encoded data removed]",
      "text/plain": [
       "<Figure size 800x300 with 1 Axes>"
      ]
     },
     "metadata": {},
     "output_type": "display_data"
    }
   ],
   "source": [
    "plt.figure(figsize=(8,3))\n",
    "sns.histplot(data=df_nonexited, x=df['Age'], kde=1)\n",
    "plt.show()"
   ]
  },
  {
   "cell_type": "markdown",
   "id": "c6be7dc9",
   "metadata": {},
   "source": [
    "***Finding the 80% of the Age group***"
   ]
  },
  {
   "cell_type": "code",
   "execution_count": 60,
   "id": "b79d6d38",
   "metadata": {},
   "outputs": [
    {
     "data": {
      "text/plain": [
       "(32.0, 58.0)"
      ]
     },
     "execution_count": 60,
     "metadata": {},
     "output_type": "execute_result"
    }
   ],
   "source": [
    "df_exited['Age'].quantile(0.1),df_exited['Age'].quantile(0.9)"
   ]
  },
  {
   "cell_type": "markdown",
   "id": "bb4deb23",
   "metadata": {},
   "source": [
    "- For customers who exited (Exited = 1), the median age is around 50, and the 82% range spans from approximately 32 to 58."
   ]
  },
  {
   "cell_type": "code",
   "execution_count": 61,
   "id": "8554b54f",
   "metadata": {},
   "outputs": [
    {
     "data": {
      "text/plain": [
       "(27.0, 49.0)"
      ]
     },
     "execution_count": 61,
     "metadata": {},
     "output_type": "execute_result"
    }
   ],
   "source": [
    "df_nonexited['Age'].quantile(0.1),df_nonexited['Age'].quantile(0.9)"
   ]
  },
  {
   "cell_type": "markdown",
   "id": "65583fc7",
   "metadata": {},
   "source": [
    "- The age distribution of customers who did not exit (Exited = 0) shows a median age slightly below 40. The 80% range spans from around 27 to 49."
   ]
  },
  {
   "cell_type": "code",
   "execution_count": 62,
   "id": "fd816e9a",
   "metadata": {},
   "outputs": [
    {
     "data": {
      "text/plain": [
       "['CreditScore', 'Age', 'Balance', 'EstimatedSalary', 'Point Earned']"
      ]
     },
     "execution_count": 62,
     "metadata": {},
     "output_type": "execute_result"
    }
   ],
   "source": [
    "num_cols"
   ]
  },
  {
   "cell_type": "code",
   "execution_count": 63,
   "id": "397438ed",
   "metadata": {},
   "outputs": [
    {
     "data": {
      "text/plain": [
       "(645.4146221786065, 651.8378548103492)"
      ]
     },
     "execution_count": 63,
     "metadata": {},
     "output_type": "execute_result"
    }
   ],
   "source": [
    "df_exited['CreditScore'].mean(),df_nonexited['CreditScore'].mean()"
   ]
  },
  {
   "cell_type": "markdown",
   "id": "d2e33329",
   "metadata": {},
   "source": [
    "- The credit score of both Exited and nonexited people are almost same"
   ]
  },
  {
   "cell_type": "code",
   "execution_count": 64,
   "id": "06446855",
   "metadata": {},
   "outputs": [
    {
     "data": {
      "text/plain": [
       "(44.83562315996075, 37.40806330067822)"
      ]
     },
     "execution_count": 64,
     "metadata": {},
     "output_type": "execute_result"
    }
   ],
   "source": [
    "df_exited['Age'].mean(),df_nonexited['Age'].mean()"
   ]
  },
  {
   "cell_type": "code",
   "execution_count": 65,
   "id": "77195881",
   "metadata": {},
   "outputs": [
    {
     "data": {
      "text/plain": [
       "(91109.47600588808, 72742.75066314971)"
      ]
     },
     "execution_count": 65,
     "metadata": {},
     "output_type": "execute_result"
    }
   ],
   "source": [
    "df_exited['Balance'].mean(),df_nonexited['Balance'].mean()"
   ]
  },
  {
   "cell_type": "markdown",
   "id": "faecdf68",
   "metadata": {},
   "source": [
    "- The mean Age, Balance of churned people is **different** from people who stay with the bank. Need to perform **Hypothesis test**"
   ]
  },
  {
   "cell_type": "code",
   "execution_count": 66,
   "id": "173d4773",
   "metadata": {},
   "outputs": [
    {
     "data": {
      "text/plain": [
       "(101509.90878312073, 99726.85314117045)"
      ]
     },
     "execution_count": 66,
     "metadata": {},
     "output_type": "execute_result"
    }
   ],
   "source": [
    "df_exited['EstimatedSalary'].mean(),df_nonexited['EstimatedSalary'].mean()"
   ]
  },
  {
   "cell_type": "code",
   "execution_count": 67,
   "id": "6d8d0d1c",
   "metadata": {},
   "outputs": [
    {
     "data": {
      "text/plain": [
       "(604.4484789008832, 607.0440844009042)"
      ]
     },
     "execution_count": 67,
     "metadata": {},
     "output_type": "execute_result"
    }
   ],
   "source": [
    "df_exited['Point Earned'].mean(),df_nonexited['Point Earned'].mean()"
   ]
  },
  {
   "cell_type": "markdown",
   "id": "27a8ea22",
   "metadata": {},
   "source": [
    "- ***Eatimated salary, points earned, Credit Score are almost same*** for Exited and non-Exited customers."
   ]
  },
  {
   "cell_type": "markdown",
   "id": "7b9363a9",
   "metadata": {},
   "source": [
    "### counts of each value in categorical column"
   ]
  },
  {
   "cell_type": "code",
   "execution_count": 68,
   "id": "75df91b2",
   "metadata": {},
   "outputs": [
    {
     "name": "stdout",
     "output_type": "stream",
     "text": [
      "Geography\n",
      "2    814\n",
      "1    811\n",
      "3    413\n",
      "Name: Geography, dtype: int64\n",
      "+++++++++++++++++++++++++\n",
      "Gender\n",
      "0    1139\n",
      "1     899\n",
      "Name: Gender, dtype: int64\n",
      "+++++++++++++++++++++++++\n",
      "Tenure\n",
      "1     232\n",
      "9     214\n",
      "3     213\n",
      "5     209\n",
      "4     203\n",
      "2     201\n",
      "8     197\n",
      "6     196\n",
      "7     177\n",
      "10    101\n",
      "0      95\n",
      "Name: Tenure, dtype: int64\n",
      "+++++++++++++++++++++++++\n",
      "NumOfProducts\n",
      "1    1409\n",
      "2     349\n",
      "3     220\n",
      "4      60\n",
      "Name: NumOfProducts, dtype: int64\n",
      "+++++++++++++++++++++++++\n",
      "HasCrCard\n",
      "1    1425\n",
      "0     613\n",
      "Name: HasCrCard, dtype: int64\n",
      "+++++++++++++++++++++++++\n",
      "IsActiveMember\n",
      "0    1303\n",
      "1     735\n",
      "Name: IsActiveMember, dtype: int64\n",
      "+++++++++++++++++++++++++\n",
      "Exited\n",
      "1    2038\n",
      "0       0\n",
      "Name: Exited, dtype: int64\n",
      "+++++++++++++++++++++++++\n",
      "Complain\n",
      "1    2034\n",
      "0       4\n",
      "Name: Complain, dtype: int64\n",
      "+++++++++++++++++++++++++\n",
      "Satisfaction Score\n",
      "2    439\n",
      "4    414\n",
      "3    401\n",
      "5    397\n",
      "1    387\n",
      "Name: Satisfaction Score, dtype: int64\n",
      "+++++++++++++++++++++++++\n",
      "Card Type\n",
      "DIAMOND     546\n",
      "PLATINUM    508\n",
      "SILVER      502\n",
      "GOLD        482\n",
      "Name: Card Type, dtype: int64\n",
      "+++++++++++++++++++++++++\n"
     ]
    }
   ],
   "source": [
    "for i in cat_cols:\n",
    "    a=df_exited[i].value_counts()\n",
    "    print(i)\n",
    "    print( a, end=\"\\n\")\n",
    "    print(25*\"+\")"
   ]
  },
  {
   "cell_type": "code",
   "execution_count": 69,
   "id": "d3b3cb05",
   "metadata": {},
   "outputs": [
    {
     "name": "stdout",
     "output_type": "stream",
     "text": [
      "Geography\n",
      "2    39.941119\n",
      "1    39.793916\n",
      "3    20.264966\n",
      "Name: Geography, dtype: float64\n",
      "+++++++++++++++++++++++++\n",
      "Gender\n",
      "0    55.888126\n",
      "1    44.111874\n",
      "Name: Gender, dtype: float64\n",
      "+++++++++++++++++++++++++\n",
      "Tenure\n",
      "1     11.383710\n",
      "9     10.500491\n",
      "3     10.451423\n",
      "5     10.255152\n",
      "4      9.960746\n",
      "2      9.862610\n",
      "8      9.666340\n",
      "6      9.617272\n",
      "7      8.684985\n",
      "10     4.955839\n",
      "0      4.661433\n",
      "Name: Tenure, dtype: float64\n",
      "+++++++++++++++++++++++++\n",
      "NumOfProducts\n",
      "1    69.136408\n",
      "2    17.124632\n",
      "3    10.794897\n",
      "4     2.944063\n",
      "Name: NumOfProducts, dtype: float64\n",
      "+++++++++++++++++++++++++\n",
      "HasCrCard\n",
      "1    69.921492\n",
      "0    30.078508\n",
      "Name: HasCrCard, dtype: float64\n",
      "+++++++++++++++++++++++++\n",
      "IsActiveMember\n",
      "0    63.935231\n",
      "1    36.064769\n",
      "Name: IsActiveMember, dtype: float64\n",
      "+++++++++++++++++++++++++\n",
      "Exited\n",
      "1    100.0\n",
      "0      0.0\n",
      "Name: Exited, dtype: float64\n",
      "+++++++++++++++++++++++++\n",
      "Complain\n",
      "1    99.803729\n",
      "0     0.196271\n",
      "Name: Complain, dtype: float64\n",
      "+++++++++++++++++++++++++\n",
      "Satisfaction Score\n",
      "2    21.540726\n",
      "4    20.314033\n",
      "3    19.676153\n",
      "5    19.479882\n",
      "1    18.989205\n",
      "Name: Satisfaction Score, dtype: float64\n",
      "+++++++++++++++++++++++++\n",
      "Card Type\n",
      "DIAMOND     26.790972\n",
      "PLATINUM    24.926398\n",
      "SILVER      24.631992\n",
      "GOLD        23.650638\n",
      "Name: Card Type, dtype: float64\n",
      "+++++++++++++++++++++++++\n"
     ]
    }
   ],
   "source": [
    "# for the values in the percentage\n",
    "\n",
    "for i in cat_cols:\n",
    "    a=df_exited[i].value_counts(normalize=1)*100\n",
    "    print(i)\n",
    "    print( a, end=\"\\n\")\n",
    "    print(25*\"+\")"
   ]
  },
  {
   "cell_type": "markdown",
   "id": "0572140c",
   "metadata": {},
   "source": [
    "- **`Germany has the highest churn rate`**. And **`France has almost similar to the Germany`** in chuen rate."
   ]
  },
  {
   "cell_type": "markdown",
   "id": "c725e974",
   "metadata": {},
   "source": [
    "## Finding Correlation between variables"
   ]
  },
  {
   "cell_type": "code",
   "execution_count": 70,
   "id": "8a6618a5",
   "metadata": {},
   "outputs": [
    {
     "data": {
      "text/plain": [
       "array(['CreditScore', 'Age', 'Balance', 'EstimatedSalary', 'Point Earned'],\n",
       "      dtype='<U15')"
      ]
     },
     "execution_count": 70,
     "metadata": {},
     "output_type": "execute_result"
    }
   ],
   "source": [
    "# Numerical variables\n",
    "num_cols=np.array(num_cols)\n",
    "num_cols"
   ]
  },
  {
   "cell_type": "code",
   "execution_count": 71,
   "id": "c03a5466",
   "metadata": {
    "scrolled": false
   },
   "outputs": [
    {
     "data": {
      "image/png": "[encoded data removed]",
      "text/plain": [
       "<Figure size 500x300 with 2 Axes>"
      ]
     },
     "metadata": {},
     "output_type": "display_data"
    }
   ],
   "source": [
    "corr=df[num_cols].corr()\n",
    "# Set up the matplotlib figure\n",
    "plt.figure(figsize=(5, 3))\n",
    "\n",
    "# Draw the heatmap with the mask and correct aspect ratio\n",
    "sns.heatmap(corr, annot=True, fmt='.2f', cmap='coolwarm', linewidths=0.5)\n",
    "\n",
    "# Display the heatmap\n",
    "plt.show()"
   ]
  },
  {
   "cell_type": "markdown",
   "id": "f51f67d5",
   "metadata": {},
   "source": [
    "- There are **`no strong correlations between any pairs of numerical variables`**, as indicated by the values being close to zero.\n",
    "- The lack of significant **`off-diagonal values`** suggests that the numerical variables are **`largely independent of each other`**."
   ]
  },
  {
   "cell_type": "markdown",
   "id": "6fdfb5fd",
   "metadata": {},
   "source": [
    "# Hypothesis Testing"
   ]
  },
  {
   "cell_type": "markdown",
   "id": "d953e7be",
   "metadata": {},
   "source": [
    "### Testing categorical columns."
   ]
  },
  {
   "cell_type": "code",
   "execution_count": 72,
   "id": "52016462",
   "metadata": {},
   "outputs": [
    {
     "data": {
      "text/plain": [
       "['Geography',\n",
       " 'Gender',\n",
       " 'Tenure',\n",
       " 'NumOfProducts',\n",
       " 'HasCrCard',\n",
       " 'IsActiveMember',\n",
       " 'Exited',\n",
       " 'Complain',\n",
       " 'Satisfaction Score',\n",
       " 'Card Type']"
      ]
     },
     "execution_count": 72,
     "metadata": {},
     "output_type": "execute_result"
    }
   ],
   "source": [
    "cat_cols"
   ]
  },
  {
   "cell_type": "markdown",
   "id": "d4ff55ec",
   "metadata": {},
   "source": [
    "Set up **Null Hypothesis** and **Alternative Hypothesis**\n",
    "\n",
    "**Ho(Null Hypothesis):** There is no significant diffenence b/w the Gender & Churn.\n",
    "\n",
    "**Ha(Alternative Hypothesis):** There is significant diffenence b/w the Gender & Churn."
   ]
  },
  {
   "cell_type": "code",
   "execution_count": 73,
   "id": "9e016dc1",
   "metadata": {},
   "outputs": [
    {
     "name": "stdout",
     "output_type": "stream",
     "text": [
      "Chi-squared value: 0.4494039375253385\n",
      "p-value: 0.5026181509009862\n",
      "Degrees of freedom: 1\n",
      "Expected frequencies:\n",
      "[[2344.809 5617.191]\n",
      " [ 600.191 1437.809]]\n",
      "Fail to reject the null hypothesis (Ho). There is no significant difference between Gender and Churn.\n"
     ]
    }
   ],
   "source": [
    "from scipy.stats import chi2_contingency\n",
    "\n",
    "# Step 1: Create a contingency table\n",
    "contingency_table = pd.crosstab(df['Exited'], df['HasCrCard'])\n",
    "\n",
    "# Step 2: Perform the Chi-squared test\n",
    "chi2, p, dof, expected = chi2_contingency(contingency_table)\n",
    "\n",
    "# Step 3: Interpret the results\n",
    "alpha = 0.05  # significance level\n",
    "print(f\"Chi-squared value: {chi2}\")\n",
    "print(f\"p-value: {p}\")\n",
    "print(f\"Degrees of freedom: {dof}\")\n",
    "print(\"Expected frequencies:\")\n",
    "print(expected)\n",
    "\n",
    "if p < alpha:\n",
    "    print(\"Reject the null hypothesis (Ho). There is a significant difference between Gender and Churn.\")\n",
    "else:\n",
    "    print(\"Fail to reject the null hypothesis (Ho). There is no significant difference between Gender and Churn.\")"
   ]
  },
  {
   "cell_type": "markdown",
   "id": "aa689502",
   "metadata": {},
   "source": [
    "Set up **Null Hypothesis** and **Alternative Hypothesis**\n",
    "\n",
    "**Ho(Null Hypothesis):** There is no significant diffenence b/w the IsActiveMember & Churn.\n",
    "\n",
    "**Ha(Alternative Hypothesis):** There is significant diffenence b/w the IsActiveMember & Churn."
   ]
  },
  {
   "cell_type": "code",
   "execution_count": 74,
   "id": "cd8558f8",
   "metadata": {},
   "outputs": [
    {
     "name": "stdout",
     "output_type": "stream",
     "text": [
      "Chi-squared value: 243.6948024819593\n",
      "p-value: 6.1531674381134086e-55\n",
      "Degrees of freedom: 1\n",
      "Expected frequencies:\n",
      "[[3860.7738 4101.2262]\n",
      " [ 988.2262 1049.7738]]\n",
      "Reject the null hypothesis (Ho). There is a significant difference between IsActiveMember and Churn.\n"
     ]
    }
   ],
   "source": [
    "# Step 1: Create a contingency table\n",
    "contingency_table = pd.crosstab(df['Exited'], df['IsActiveMember'])\n",
    "\n",
    "# Step 2: Perform the Chi-squared test\n",
    "chi2, p, dof, expected = chi2_contingency(contingency_table)\n",
    "\n",
    "# Step 3: Interpret the results\n",
    "alpha = 0.05  # significance level\n",
    "print(f\"Chi-squared value: {chi2}\")\n",
    "print(f\"p-value: {p}\")\n",
    "print(f\"Degrees of freedom: {dof}\")\n",
    "print(\"Expected frequencies:\")\n",
    "print(expected)\n",
    "\n",
    "if p < alpha:\n",
    "    print(\"Reject the null hypothesis (Ho). There is a significant difference between IsActiveMember and Churn.\")\n",
    "else:\n",
    "    print(\"Fail to reject the null hypothesis (Ho). There is no significant difference between IsActiveMember and Churn.\")"
   ]
  },
  {
   "cell_type": "markdown",
   "id": "105cd136",
   "metadata": {},
   "source": [
    "Set up **Null Hypothesis** and **Alternative Hypothesis**\n",
    "\n",
    "**Ho(Null Hypothesis):** There is no significant diffenence b/w the IsActiveMember & Churn.\n",
    "\n",
    "**Ha(Alternative Hypothesis):** There is significant diffenence b/w the IsActiveMember & Churn."
   ]
  },
  {
   "cell_type": "code",
   "execution_count": 75,
   "id": "62b9a42e",
   "metadata": {},
   "outputs": [
    {
     "name": "stdout",
     "output_type": "stream",
     "text": [
      "Chi-squared value: 14.058258798510963\n",
      "p-value: 0.17035079254617927\n",
      "Degrees of freedom: 10\n",
      "Expected frequencies:\n",
      "[[328.8306 824.067  834.4176 803.3658 787.4418 805.7544 769.9254 818.4936\n",
      "  816.105  783.4608 390.138 ]\n",
      " [ 84.1694 210.933  213.5824 205.6342 201.5582 206.2456 197.0746 209.5064\n",
      "  208.895  200.5392  99.862 ]]\n",
      "Fail to reject the null hypothesis (Ho). There is no significant difference between Tenure and Churn.\n"
     ]
    }
   ],
   "source": [
    "# Step 1: Create a contingency table\n",
    "contingency_table = pd.crosstab(df['Exited'], df['Tenure'])\n",
    "\n",
    "# Step 2: Perform the Chi-squared test\n",
    "chi2, p, dof, expected = chi2_contingency(contingency_table)\n",
    "\n",
    "# Step 3: Interpret the results\n",
    "alpha = 0.05  # significance level\n",
    "print(f\"Chi-squared value: {chi2}\")\n",
    "print(f\"p-value: {p}\")\n",
    "print(f\"Degrees of freedom: {dof}\")\n",
    "print(\"Expected frequencies:\")\n",
    "print(expected)\n",
    "\n",
    "if p < alpha:\n",
    "    print(\"Reject the null hypothesis (Ho). There is a significant difference between Tenure and Churn.\")\n",
    "else:\n",
    "    print(\"Fail to reject the null hypothesis (Ho). There is no significant difference between Tenure and Churn.\")"
   ]
  },
  {
   "cell_type": "markdown",
   "id": "2c499fc1",
   "metadata": {},
   "source": [
    "Set up **Null Hypothesis** and **Alternative Hypothesis**\n",
    "\n",
    "**Ho(Null Hypothesis):** There is no significant diffenence b/w the Geography & Churn.\n",
    "\n",
    "**Ha(Alternative Hypothesis):** There is significant diffenence b/w the Geography & Churn."
   ]
  },
  {
   "cell_type": "code",
   "execution_count": 76,
   "id": "169e7f59",
   "metadata": {},
   "outputs": [
    {
     "name": "stdout",
     "output_type": "stream",
     "text": [
      "Chi-squared value: 300.6264011211942\n",
      "p-value: 5.245736109572763e-66\n",
      "Degrees of freedom: 2\n",
      "Expected frequencies:\n",
      "[[3992.1468 1997.6658 1972.1874]\n",
      " [1021.8532  511.3342  504.8126]]\n",
      "Reject the null hypothesis (Ho). There is a significant difference between Geography and Churn.\n"
     ]
    }
   ],
   "source": [
    "# Step 1: Create a contingency table\n",
    "contingency_table = pd.crosstab(df['Exited'], df['Geography'])\n",
    "\n",
    "# Step 2: Perform the Chi-squared test\n",
    "chi2, p, dof, expected = chi2_contingency(contingency_table)\n",
    "\n",
    "# Step 3: Interpret the results\n",
    "alpha = 0.05  # significance level\n",
    "print(f\"Chi-squared value: {chi2}\")\n",
    "print(f\"p-value: {p}\")\n",
    "print(f\"Degrees of freedom: {dof}\")\n",
    "print(\"Expected frequencies:\")\n",
    "print(expected)\n",
    "\n",
    "if p < alpha:\n",
    "    print(\"Reject the null hypothesis (Ho). There is a significant difference between Geography and Churn.\")\n",
    "else:\n",
    "    print(\"Fail to reject the null hypothesis (Ho). There is no significant difference between Geography and Churn.\")"
   ]
  },
  {
   "cell_type": "markdown",
   "id": "c903cb43",
   "metadata": {},
   "source": [
    "Set up **Null Hypothesis** and **Alternative Hypothesis**\n",
    "\n",
    "**Ho(Null Hypothesis):** There is no significant diffenence b/w the NumOfProducts & Churn.\n",
    "\n",
    "**Ha(Alternative Hypothesis):** There is significant diffenence b/w the NumOfProducts & Churn."
   ]
  },
  {
   "cell_type": "code",
   "execution_count": 77,
   "id": "51e4421f",
   "metadata": {},
   "outputs": [
    {
     "name": "stdout",
     "output_type": "stream",
     "text": [
      "Chi-squared value: 1501.5048306588592\n",
      "p-value: 0.0\n",
      "Degrees of freedom: 3\n",
      "Expected frequencies:\n",
      "[[4047.8808 3654.558   211.7892   47.772 ]\n",
      " [1036.1192  935.442    54.2108   12.228 ]]\n",
      "Reject the null hypothesis (Ho). There is a significant difference between NumOfProducts and Churn.\n"
     ]
    }
   ],
   "source": [
    "# Step 1: Create a contingency table\n",
    "contingency_table = pd.crosstab(df['Exited'], df['NumOfProducts'])\n",
    "\n",
    "# Step 2: Perform the Chi-squared test\n",
    "chi2, p, dof, expected = chi2_contingency(contingency_table)\n",
    "\n",
    "# Step 3: Interpret the results\n",
    "alpha = 0.05  # significance level\n",
    "print(f\"Chi-squared value: {chi2}\")\n",
    "print(f\"p-value: {p}\")\n",
    "print(f\"Degrees of freedom: {dof}\")\n",
    "print(\"Expected frequencies:\")\n",
    "print(expected)\n",
    "\n",
    "if p < alpha:\n",
    "    print(\"Reject the null hypothesis (Ho). There is a significant difference between NumOfProducts and Churn.\")\n",
    "else:\n",
    "    print(\"Fail to reject the null hypothesis (Ho). There is no significant difference between NumOfProducts and Churn.\")"
   ]
  },
  {
   "cell_type": "markdown",
   "id": "6d16e96b",
   "metadata": {},
   "source": [
    "Set up **Null Hypothesis** and **Alternative Hypothesis**\n",
    "\n",
    "**Ho(Null Hypothesis):** There is no significant diffenence b/w the NumOfProducts & Churn.\n",
    "\n",
    "**Ha(Alternative Hypothesis):** There is significant diffenence b/w the NumOfProducts & Churn."
   ]
  },
  {
   "cell_type": "code",
   "execution_count": 78,
   "id": "28ff062f",
   "metadata": {},
   "outputs": [
    {
     "name": "stdout",
     "output_type": "stream",
     "text": [
      "Chi-squared value: 1501.5048306588592\n",
      "p-value: 0.0\n",
      "Degrees of freedom: 3\n",
      "Expected frequencies:\n",
      "[[4047.8808 3654.558   211.7892   47.772 ]\n",
      " [1036.1192  935.442    54.2108   12.228 ]]\n",
      "Reject the null hypothesis (Ho). There is a significant difference between Complain and Churn.\n"
     ]
    }
   ],
   "source": [
    "# Step 1: Create a contingency table\n",
    "contingency_table = pd.crosstab(df['Exited'], df['NumOfProducts'])\n",
    "\n",
    "# Step 2: Perform the Chi-squared test\n",
    "chi2, p, dof, expected = chi2_contingency(contingency_table)\n",
    "\n",
    "# Step 3: Interpret the results\n",
    "alpha = 0.05  # significance level\n",
    "print(f\"Chi-squared value: {chi2}\")\n",
    "print(f\"p-value: {p}\")\n",
    "print(f\"Degrees of freedom: {dof}\")\n",
    "print(\"Expected frequencies:\")\n",
    "print(expected)\n",
    "\n",
    "if p < alpha:\n",
    "    print(\"Reject the null hypothesis (Ho). There is a significant difference between Complain and Churn.\")\n",
    "else:\n",
    "    print(\"Fail to reject the null hypothesis (Ho). There is no significant difference between Complain and Churn.\")"
   ]
  },
  {
   "cell_type": "markdown",
   "id": "341b8e00",
   "metadata": {},
   "source": [
    "Set up **Null Hypothesis** and **Alternative Hypothesis**\n",
    "\n",
    "**Ho(Null Hypothesis):** There is no significant diffenence b/w the Satisfaction Score & Churn.\n",
    "\n",
    "**Ha(Alternative Hypothesis):** There is significant diffenence b/w the Satisfaction Score & Churn."
   ]
  },
  {
   "cell_type": "code",
   "execution_count": 79,
   "id": "08268440",
   "metadata": {},
   "outputs": [
    {
     "name": "stdout",
     "output_type": "stream",
     "text": [
      "Chi-squared value: 3.8027035326309573\n",
      "p-value: 0.4333649732774312\n",
      "Degrees of freedom: 4\n",
      "Expected frequencies:\n",
      "[[1538.2584 1603.5468 1625.8404 1598.7696 1595.5848]\n",
      " [ 393.7416  410.4532  416.1596  409.2304  408.4152]]\n",
      "Fail to reject the null hypothesis (Ho). There is no significant difference between Satisfaction Score and Churn.\n"
     ]
    }
   ],
   "source": [
    "# Step 1: Create a contingency table\n",
    "contingency_table = pd.crosstab(df['Exited'], df['Satisfaction Score'])\n",
    "\n",
    "# Step 2: Perform the Chi-squared test\n",
    "chi2, p, dof, expected = chi2_contingency(contingency_table)\n",
    "\n",
    "# Step 3: Interpret the results\n",
    "alpha = 0.05  # significance level\n",
    "print(f\"Chi-squared value: {chi2}\")\n",
    "print(f\"p-value: {p}\")\n",
    "print(f\"Degrees of freedom: {dof}\")\n",
    "print(\"Expected frequencies:\")\n",
    "print(expected)\n",
    "\n",
    "if p < alpha:\n",
    "    print(\"Reject the null hypothesis (Ho). There is a significant difference between Satisfaction Score and Churn.\")\n",
    "else:\n",
    "    print(\"Fail to reject the null hypothesis (Ho). There is no significant difference between Satisfaction Score and Churn.\")"
   ]
  },
  {
   "cell_type": "markdown",
   "id": "404d920a",
   "metadata": {},
   "source": [
    "Set up **Null Hypothesis** and **Alternative Hypothesis**\n",
    "\n",
    "**Ho(Null Hypothesis):** There is no significant diffenence b/w the Card Type & Churn.\n",
    "\n",
    "**Ha(Alternative Hypothesis):** There is significant diffenence b/w the SCard Type & Churn."
   ]
  },
  {
   "cell_type": "code",
   "execution_count": 80,
   "id": "a458b67c",
   "metadata": {},
   "outputs": [
    {
     "name": "stdout",
     "output_type": "stream",
     "text": [
      "Chi-squared value: 5.053223027060927\n",
      "p-value: 0.16794112067810177\n",
      "Degrees of freedom: 3\n",
      "Expected frequencies:\n",
      "[[1996.0734 1992.0924 1986.519  1987.3152]\n",
      " [ 510.9266  509.9076  508.481   508.6848]]\n",
      "Fail to reject the null hypothesis (Ho). There is no significant difference between Card Type and Churn.\n"
     ]
    }
   ],
   "source": [
    "# Step 1: Create a contingency table\n",
    "contingency_table = pd.crosstab(df['Exited'], df['Card Type'])\n",
    "\n",
    "# Step 2: Perform the Chi-squared test\n",
    "chi2, p, dof, expected = chi2_contingency(contingency_table)\n",
    "\n",
    "# Step 3: Interpret the results\n",
    "alpha = 0.05  # significance level\n",
    "print(f\"Chi-squared value: {chi2}\")\n",
    "print(f\"p-value: {p}\")\n",
    "print(f\"Degrees of freedom: {dof}\")\n",
    "print(\"Expected frequencies:\")\n",
    "print(expected)\n",
    "\n",
    "if p < alpha:\n",
    "    print(\"Reject the null hypothesis (Ho). There is a significant difference between Card Type and Churn.\")\n",
    "else:\n",
    "    print(\"Fail to reject the null hypothesis (Ho). There is no significant difference between Card Type and Churn.\")"
   ]
  },
  {
   "cell_type": "markdown",
   "id": "49de8801",
   "metadata": {},
   "source": [
    "Set up **Null Hypothesis** and **Alternative Hypothesis**\n",
    "\n",
    "**Ho(Null Hypothesis):** There is no significant diffenence b/w the Complain & Churn.\n",
    "\n",
    "**Ha(Alternative Hypothesis):** There is significant diffenence b/w the Complain & Churn."
   ]
  },
  {
   "cell_type": "code",
   "execution_count": 81,
   "id": "1af3b4de",
   "metadata": {},
   "outputs": [
    {
     "name": "stdout",
     "output_type": "stream",
     "text": [
      "Chi-squared value: 9907.907035880155\n",
      "p-value: 0.0\n",
      "Degrees of freedom: 1\n",
      "Expected frequencies:\n",
      "[[6334.5672 1627.4328]\n",
      " [1621.4328  416.5672]]\n",
      "Reject the null hypothesis (Ho). There is a significant difference between Complain and Churn.\n"
     ]
    }
   ],
   "source": [
    "# Step 1: Create a contingency table\n",
    "contingency_table = pd.crosstab(df['Exited'], df['Complain'])\n",
    "\n",
    "# Step 2: Perform the Chi-squared test\n",
    "chi2, p, dof, expected = chi2_contingency(contingency_table)\n",
    "\n",
    "# Step 3: Interpret the results\n",
    "alpha = 0.05  # significance level\n",
    "print(f\"Chi-squared value: {chi2}\")\n",
    "print(f\"p-value: {p}\")\n",
    "print(f\"Degrees of freedom: {dof}\")\n",
    "print(\"Expected frequencies:\")\n",
    "print(expected)\n",
    "\n",
    "if p < alpha:\n",
    "    print(\"Reject the null hypothesis (Ho). There is a significant difference between Complain and Churn.\")\n",
    "else:\n",
    "    print(\"Fail to reject the null hypothesis (Ho). There is no significant difference between Complain and Churn.\")"
   ]
  },
  {
   "cell_type": "markdown",
   "id": "e82c3eab",
   "metadata": {},
   "source": [
    "### Testing Numerical columns"
   ]
  },
  {
   "cell_type": "code",
   "execution_count": 82,
   "id": "94aaaf37",
   "metadata": {},
   "outputs": [
    {
     "name": "stdout",
     "output_type": "stream",
     "text": [
      "t-test for CreditScore:\n",
      "t-statistic: -2.6778368664704235, p-value: 0.0074220372427342435\n",
      "There is a significant difference in CreditScore between the Exited and non-Exited groups.\n",
      "\n",
      "t-test for Age:\n",
      "t-statistic: 29.76379695489027, p-value: 1.3467162476197306e-186\n",
      "There is a significant difference in Age between the Exited and non-Exited groups.\n",
      "\n",
      "t-test for Balance:\n",
      "t-statistic: 11.940747722508185, p-value: 1.2092076077156017e-32\n",
      "There is a significant difference in Balance between the Exited and non-Exited groups.\n",
      "\n",
      "t-test for EstimatedSalary:\n",
      "t-statistic: 1.2489445044833742, p-value: 0.2117146135149097\n",
      "There is no significant difference in EstimatedSalary between the Exited and non-Exited groups.\n",
      "\n",
      "t-test for Point Earned:\n",
      "t-statistic: -0.4627759848070133, p-value: 0.6435350184288993\n",
      "There is no significant difference in Point Earned between the Exited and non-Exited groups.\n",
      "\n"
     ]
    }
   ],
   "source": [
    "from scipy.stats import ttest_ind\n",
    "\n",
    "# Assuming df_exited is your DataFrame and 'Exited' is the categorical column\n",
    "for col in num_cols:\n",
    "    group1 = df_exited[col]\n",
    "    group2 = df_nonexited[col]\n",
    "\n",
    "    t_stat, p_value = ttest_ind(group1, group2)\n",
    "\n",
    "    print(f\"t-test for {col}:\")\n",
    "    print(f\"t-statistic: {t_stat}, p-value: {p_value}\")\n",
    "    if p_value < 0.05:\n",
    "        print(f\"There is a significant difference in {col} between the Exited and non-Exited groups.\\n\")\n",
    "    else:\n",
    "        print(f\"There is no significant difference in {col} between the Exited and non-Exited groups.\\n\")\n"
   ]
  },
  {
   "cell_type": "markdown",
   "id": "b1b02a80",
   "metadata": {},
   "source": [
    "Set up **Null Hypothesis** and **Alternative Hypothesis**\n",
    "\n",
    "**Ho(Null Hypothesis):** There is no significant relation b/w the Satisfaction Score & Complain.\n",
    "\n",
    "**Ha(Alternative Hypothesis):** There is significant relation b/w the Satisfaction Score & Complain."
   ]
  },
  {
   "cell_type": "code",
   "execution_count": 83,
   "id": "addf3622",
   "metadata": {},
   "outputs": [
    {
     "name": "stdout",
     "output_type": "stream",
     "text": [
      "Chi-square value: 3.195855349283368, p-value: 0.525600639219834\n",
      "Failed to reject H0, there is a significant difference between Satisfaction Score and Complain\n"
     ]
    }
   ],
   "source": [
    "# Creating the contingency table\n",
    "satisfaction_complaints_contingency_table = pd.crosstab(df_exited['Satisfaction Score'], df_exited['Complain']\n",
    ")\n",
    "\n",
    "# Performing the Chi-square test\n",
    "chi2, p, dof, expected = chi2_contingency(satisfaction_complaints_contingency_table)\n",
    "\n",
    "# Print results\n",
    "print(f'Chi-square value: {chi2}, p-value: {p}')\n",
    "alpha = 0.05\n",
    "\n",
    "# Decision rule\n",
    "if p < alpha:\n",
    "    print(\"Reject H0, there is no significant difference between Satisfaction Score and Complain\")\n",
    "else:\n",
    "    print(\"Failed to reject H0, there is a significant difference between Satisfaction Score and Complain\")"
   ]
  },
  {
   "cell_type": "markdown",
   "id": "5350659a",
   "metadata": {},
   "source": [
    "# Recommendations"
   ]
  },
  {
   "cell_type": "markdown",
   "id": "f422e00c",
   "metadata": {},
   "source": [
    "1. **Focus on Active Membership**: Since there is a significant difference between being an active member and churn, incentivize customers to remain active. Implement loyalty programs, personalized offers, and engagement activities to keep members active.\n",
    "\n",
    "2. **Improve Services in Certain Geographies**: Geography has a significant impact on churn. Identify regions with higher churn rates and analyze local factors affecting customer satisfaction. Tailor services and marketing strategies to address specific regional needs.\n",
    "\n",
    "3. **Optimize Product Offerings**: The number of products a customer holds significantly impacts churn. Encourage customers to use more products by bundling services, offering discounts for multiple products, and providing educational resources on product benefits.\n",
    "\n",
    "4. **Address Customer Complaints**: A significant relationship between complaints and churn suggests the need for better customer service. Enhance complaint resolution processes, reduce response times, and actively seek feedback to improve customer satisfaction.\n",
    "\n",
    "5. **Target High-Risk Age Groups**: Age is a significant factor in churn. Identify age groups that are more likely to churn and develop targeted retention strategies, such as tailored communication, age-specific promotions, and personalized services.\n",
    "\n",
    "6. **Monitor Credit Scores**: Since there is a significant difference in credit scores between exited and non-exited customers, consider credit score trends in your risk assessment models and offer financial advice or assistance to customers with lower credit scores.\n",
    "\n",
    "7. **Manage Account Balances**: Balance differences significantly affect churn. Help customers manage their balances better by offering financial planning tools, budget management advice, and incentives for maintaining healthy balances.\n",
    "\n",
    "8. **Evaluate and Enhance Satisfaction Scores**: Though there is no significant difference between satisfaction score and churn in general, satisfaction score still plays a crucial role in overall customer satisfaction. Continually evaluate and improve factors contributing to customer satisfaction.\n",
    "\n",
    "9. **Review Card Types Offered**: Although there is no significant difference between card types and churn, ensure that the card offerings align with customer needs and preferences. Consider adding features or benefits that enhance the value of your card products.\n",
    "\n",
    "10. **Analyze Estimated Salary and Point Earned**: No significant differences were found here, but continue to monitor these metrics to ensure they do not become significant factors in the future. Adjust marketing strategies and rewards programs as necessary to align with customer income and point-earning potential.\n",
    "\n",
    "11. **Correlation Between Satisfaction Score and Complaints**: Despite the failed hypothesis, there is an indication that complaints might relate to satisfaction scores. Investigate this further and implement strategies to boost satisfaction by effectively addressing complaints.\n",
    "\n",
    "These recommendations aim to reduce churn by focusing on critical areas of improvement identified through the hypothesis testing results."
   ]
  }
 ],
 "metadata": {
  "kernelspec": {
   "display_name": "Python 3 (ipykernel)",
   "language": "python",
   "name": "python3"
  },
  "language_info": {
   "codemirror_mode": {
    "name": "ipython",
    "version": 3
   },
   "file_extension": ".py",
   "mimetype": "text/x-python",
   "name": "python",
   "nbconvert_exporter": "python",
   "pygments_lexer": "ipython3",
   "version": "3.9.13"
  }
 },
 "nbformat": 4,
 "nbformat_minor": 5
}
